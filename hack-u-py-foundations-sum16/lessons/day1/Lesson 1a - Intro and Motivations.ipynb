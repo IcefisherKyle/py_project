{
 "cells": [
  {
   "cell_type": "code",
   "execution_count": null,
   "metadata": {
    "collapsed": true
   },
   "outputs": [],
   "source": []
  },
  {
   "cell_type": "code",
   "execution_count": 2,
   "metadata": {
    "collapsed": false
   },
   "outputs": [
    {
     "name": "stdout",
     "output_type": "stream",
     "text": [
      "Hello World\n"
     ]
    }
   ],
   "source": [
    "print('Hello World')"
   ]
  },
  {
   "cell_type": "markdown",
   "metadata": {},
   "source": [
    "# Lesson 1a - Intro/Motivations\n",
    "\n",
    "Why Python? Motivations? What are you looking to get out of this class?\n",
    "\n",
    "![](../images/xkcd.png)"
   ]
  },
  {
   "cell_type": "markdown",
   "metadata": {},
   "source": [
    "### “Python is the second best at everything”\n",
    "\n",
    "* Build websites - Django \n",
    "https://www.djangoproject.com/start/overview/\n",
    "* Make Games - PyGame http://www.pygame.org/hifi.html\n",
    "* Popular in Sciences - scipy, numpy, matplotlib http://matplotlib.org/gallery.html\n",
    "* Creative coding - http://www.meetup.com/PDX-Creative-Coders/\n",
    "    * [painting with neural nets](https://github.com/alexjc/neural-doodle)\n",
    "* Data Science - http://scikit-learn.org/\n"
   ]
  },
  {
   "cell_type": "markdown",
   "metadata": {},
   "source": [
    "### Why Python?\n",
    "1. Friendly and helpful community\n",
    "2. Human readability\n",
    "3. General accessibility to beginners\n",
    "4. It's been around a long time, so there's many many resources to help you get started\n",
    "5. It's about second best at everything. If you're trying to do one specific thing, it's probably better to learn another language. But since most software does more than one thing, python is becoming incredibly popular.\n",
    "6. It's gaining popularity\n",
    "7. Used widely, think Google, YouTube, Dropbox, Netflix, Hulu, etc\n",
    "\n",
    "![](../images/LanguageTrends.png)\n",
    "\n",
    "source: http://www.indeed.com/jobtrends/q-Java-q-PHP-q-Perl-q-.Net-q-Python-q-JavaScript.html?relative=1"
   ]
  },
  {
   "cell_type": "markdown",
   "metadata": {},
   "source": [
    "***\n",
    "# Python 2 vs Python 3\n",
    "\n",
    "Computer Languages change over time as upgrades are made and bugs are fixed. \n",
    "\n",
    "So why start over? Why not just come out with Python 2.8? (First Rule of Python foundations. Don't ask about [Python 2.8](https://www.python.org/dev/peps/pep-0404/))\n",
    "\n",
    "Updates are posted regularly here: [What's new in Python](https://docs.python.org/3/whatsnew/)\n",
    "\n",
    "> Short version: Python 2.x is legacy, Python 3.x is the present and future of the language\n",
    "\n",
    "source: https://wiki.python.org/moin/Python2orPython3\n",
    "\n",
    "In reality they're not that different!\n",
    "\n",
    "### Python 2\n",
    "* Started in 2000\n",
    "* 2.7 written in 2010\n",
    "* Will loose support in 2020(security updates, backported features, etc)Riley Note: Python 2 will continue to work, it just won't be updated\n",
    "\n",
    "### Python 3\n",
    "* Released in 2008\n",
    "* 3.5 released in 2015\n",
    "* Initially wasn't supported by many libraries, but that's changing as more people adopt Python 3\n",
    "\n",
    "### Which Do We Choose?\n",
    "![](../images/steve.gif)\n",
    "\n",
    "### Both!... sort of.\n",
    "\n",
    "We'll be writing our code in Python 3. Why?\n",
    "\n",
    "* **Python 2 has an end date**\n",
    "* Build good habits\n",
    "* Python 3 is expected to overtake Python 2 in popularity by the end of 2016 ([source](https://www.jetbrains.com/pycharm/python-developers-survey-2016/))\n",
    "* Almost all [major libraries](https://python3wos.appspot.com/) are now supported by Python 3, which hasn't always been the case\n",
    "* Hack Oregon is transitioning to Python 3.\n",
    "* Most companies that use python have their code base in Python 2, but likely are transitioning to Python 3. If you were hired today, you'd be expected to know both. \n",
    "\n",
    "\n",
    "### Course materials will note when there is a difference.\n",
    "# *Python 2!*\n",
    "Followed by an explanation of the effective difference between versions and how to use them.\n",
    "\n",
    "\n",
    "\n",
    "##### Tip: there are libraries to automatically convert your code from one version to the other appropriately named 2to3 and 3to2, as well as a library to write both python2 and python3 compliant code named six"
   ]
  },
  {
   "cell_type": "markdown",
   "metadata": {},
   "source": [
    "***\n",
    "# Integrated Development Environments (IDEs)\n",
    "\n",
    "2 Ways to interpret python code\n",
    " \n",
    "IDLE through command line that we saw before. (anaconda command prompt or terminal)\n",
    "* Enter ```Python``` to access\n",
    "\n",
    "##### Text Editors\n",
    "* write scripts, and larger programs\n",
    "* then run them in the command line\n",
    "\n",
    "##### Options\n",
    "* notepad\n",
    "* vim\n",
    "* Sublime is my favorite, check out [tools](https://github.com/hackoregon/hack-u-py-foundations-sum16/blob/master/resources/tools.md) for more options\n",
    "\n",
    "If you'd like to us sublime, here are the instructions to set up the command to open it from the command line:https://www.udacity.com/wiki/ud775/sublime\n",
    "same for pycharm: https://www.jetbrains.com/help/pycharm/5.0/working-with-pycharm-features-from-command-line.html\n",
    "\n",
    "![](../images/sublime.png)\n",
    "\n",
    "###### We'll be using Jupyter for most of this course\n",
    "Also previously known as iPython Notebooks, which you've hopefully already seen by this point.\n",
    "* You run code line by line, and see each output\n",
    "* Super easy to share to and download from github\n",
    "* Also super great for data science, and data analysis\n",
    "* Developers often use it to write pieces of their projects"
   ]
  },
  {
   "cell_type": "markdown",
   "metadata": {},
   "source": [
    "***\n",
    "# Jupyter Notebooks!\n",
    "we're in one!!!\n",
    "\n",
    "You can view Jupyter Notebooks on Github, but you can't run them. you can run them on your computer or in your browser.\n",
    "\n",
    "### Process\n",
    "\n",
    "No need to start python\n",
    "\n",
    "Just navigate to whichever directory the file you want to access is in, and type jupyter notebooks\n",
    "\n",
    "I suggest using Firefox or Chrome. Not all browsers are supported"
   ]
  },
  {
   "cell_type": "code",
   "execution_count": 6,
   "metadata": {
    "collapsed": false,
    "scrolled": true
   },
   "outputs": [
    {
     "name": "stdout",
     "output_type": "stream",
     "text": [
      "Hello World!\n"
     ]
    }
   ],
   "source": [
    "# use run button\n",
    "print('Hello World!')"
   ]
  },
  {
   "cell_type": "code",
   "execution_count": 7,
   "metadata": {
    "collapsed": false
   },
   "outputs": [
    {
     "name": "stdout",
     "output_type": "stream",
     "text": [
      "Hello World!\n"
     ]
    }
   ],
   "source": [
    "# use shift + enter\n",
    "print('Hello World!')"
   ]
  },
  {
   "cell_type": "code",
   "execution_count": 5,
   "metadata": {
    "collapsed": true
   },
   "outputs": [],
   "source": [
    "# Mess with toolbar "
   ]
  },
  {
   "cell_type": "code",
   "execution_count": null,
   "metadata": {
    "collapsed": true
   },
   "outputs": [],
   "source": [
    "# Keeps track of order that you ran cells in \n",
    "# can kill kernel if something goes wrong"
   ]
  },
  {
   "cell_type": "code",
   "execution_count": null,
   "metadata": {
    "collapsed": true
   },
   "outputs": [],
   "source": [
    "# Tab autocomplete\n"
   ]
  },
  {
   "cell_type": "code",
   "execution_count": 3,
   "metadata": {
    "collapsed": true
   },
   "outputs": [],
   "source": [
    "hello = ['hello world']"
   ]
  },
  {
   "cell_type": "code",
   "execution_count": 13,
   "metadata": {
    "collapsed": false
   },
   "outputs": [
    {
     "data": {
      "text/plain": [
       "['hello world']"
      ]
     },
     "execution_count": 13,
     "metadata": {},
     "output_type": "execute_result"
    }
   ],
   "source": [
    "hello"
   ]
  },
  {
   "cell_type": "code",
   "execution_count": 14,
   "metadata": {
    "collapsed": false
   },
   "outputs": [
    {
     "name": "stdout",
     "output_type": "stream",
     "text": [
      "Help on list object:\n",
      "\n",
      "class list(object)\n",
      " |  list() -> new empty list\n",
      " |  list(iterable) -> new list initialized from iterable's items\n",
      " |  \n",
      " |  Methods defined here:\n",
      " |  \n",
      " |  __add__(self, value, /)\n",
      " |      Return self+value.\n",
      " |  \n",
      " |  __contains__(self, key, /)\n",
      " |      Return key in self.\n",
      " |  \n",
      " |  __delitem__(self, key, /)\n",
      " |      Delete self[key].\n",
      " |  \n",
      " |  __eq__(self, value, /)\n",
      " |      Return self==value.\n",
      " |  \n",
      " |  __ge__(self, value, /)\n",
      " |      Return self>=value.\n",
      " |  \n",
      " |  __getattribute__(self, name, /)\n",
      " |      Return getattr(self, name).\n",
      " |  \n",
      " |  __getitem__(...)\n",
      " |      x.__getitem__(y) <==> x[y]\n",
      " |  \n",
      " |  __gt__(self, value, /)\n",
      " |      Return self>value.\n",
      " |  \n",
      " |  __iadd__(self, value, /)\n",
      " |      Implement self+=value.\n",
      " |  \n",
      " |  __imul__(self, value, /)\n",
      " |      Implement self*=value.\n",
      " |  \n",
      " |  __init__(self, /, *args, **kwargs)\n",
      " |      Initialize self.  See help(type(self)) for accurate signature.\n",
      " |  \n",
      " |  __iter__(self, /)\n",
      " |      Implement iter(self).\n",
      " |  \n",
      " |  __le__(self, value, /)\n",
      " |      Return self<=value.\n",
      " |  \n",
      " |  __len__(self, /)\n",
      " |      Return len(self).\n",
      " |  \n",
      " |  __lt__(self, value, /)\n",
      " |      Return self<value.\n",
      " |  \n",
      " |  __mul__(self, value, /)\n",
      " |      Return self*value.n\n",
      " |  \n",
      " |  __ne__(self, value, /)\n",
      " |      Return self!=value.\n",
      " |  \n",
      " |  __new__(*args, **kwargs) from builtins.type\n",
      " |      Create and return a new object.  See help(type) for accurate signature.\n",
      " |  \n",
      " |  __repr__(self, /)\n",
      " |      Return repr(self).\n",
      " |  \n",
      " |  __reversed__(...)\n",
      " |      L.__reversed__() -- return a reverse iterator over the list\n",
      " |  \n",
      " |  __rmul__(self, value, /)\n",
      " |      Return self*value.\n",
      " |  \n",
      " |  __setitem__(self, key, value, /)\n",
      " |      Set self[key] to value.\n",
      " |  \n",
      " |  __sizeof__(...)\n",
      " |      L.__sizeof__() -- size of L in memory, in bytes\n",
      " |  \n",
      " |  append(...)\n",
      " |      L.append(object) -> None -- append object to end\n",
      " |  \n",
      " |  clear(...)\n",
      " |      L.clear() -> None -- remove all items from L\n",
      " |  \n",
      " |  copy(...)\n",
      " |      L.copy() -> list -- a shallow copy of L\n",
      " |  \n",
      " |  count(...)\n",
      " |      L.count(value) -> integer -- return number of occurrences of value\n",
      " |  \n",
      " |  extend(...)\n",
      " |      L.extend(iterable) -> None -- extend list by appending elements from the iterable\n",
      " |  \n",
      " |  index(...)\n",
      " |      L.index(value, [start, [stop]]) -> integer -- return first index of value.\n",
      " |      Raises ValueError if the value is not present.\n",
      " |  \n",
      " |  insert(...)\n",
      " |      L.insert(index, object) -- insert object before index\n",
      " |  \n",
      " |  pop(...)\n",
      " |      L.pop([index]) -> item -- remove and return item at index (default last).\n",
      " |      Raises IndexError if list is empty or index is out of range.\n",
      " |  \n",
      " |  remove(...)\n",
      " |      L.remove(value) -> None -- remove first occurrence of value.\n",
      " |      Raises ValueError if the value is not present.\n",
      " |  \n",
      " |  reverse(...)\n",
      " |      L.reverse() -- reverse *IN PLACE*\n",
      " |  \n",
      " |  sort(...)\n",
      " |      L.sort(key=None, reverse=False) -> None -- stable sort *IN PLACE*\n",
      " |  \n",
      " |  ----------------------------------------------------------------------\n",
      " |  Data and other attributes defined here:\n",
      " |  \n",
      " |  __hash__ = None\n",
      "\n"
     ]
    }
   ],
   "source": [
    "help(hello)"
   ]
  },
  {
   "cell_type": "code",
   "execution_count": 17,
   "metadata": {
    "collapsed": false
   },
   "outputs": [
    {
     "name": "stdout",
     "output_type": "stream",
     "text": [
      "Help on built-in function print in module builtins:\n",
      "\n",
      "print(...)\n",
      "    print(value, ..., sep=' ', end='\\n', file=sys.stdout, flush=False)\n",
      "    \n",
      "    Prints the values to a stream, or to sys.stdout by default.\n",
      "    Optional keyword arguments:\n",
      "    file:  a file-like object (stream); defaults to the current sys.stdout.\n",
      "    sep:   string inserted between values, default a space.\n",
      "    end:   string appended after the last value, default a newline.\n",
      "    flush: whether to forcibly flush the stream.\n",
      "\n"
     ]
    }
   ],
   "source": [
    "help(print)"
   ]
  },
  {
   "cell_type": "code",
   "execution_count": 5,
   "metadata": {
    "collapsed": false
   },
   "outputs": [
    {
     "data": {
      "text/plain": [
       "['hello world']"
      ]
     },
     "execution_count": 5,
     "metadata": {},
     "output_type": "execute_result"
    }
   ],
   "source": [
    "hello # This is a comment"
   ]
  },
  {
   "cell_type": "code",
   "execution_count": 19,
   "metadata": {
    "collapsed": false
   },
   "outputs": [
    {
     "data": {
      "text/plain": [
       "['hello world']"
      ]
     },
     "execution_count": 19,
     "metadata": {},
     "output_type": "execute_result"
    }
   ],
   "source": [
    "'''\n",
    "This is another type of comment\n",
    "that\n",
    "can\n",
    "take up \n",
    "multiple \n",
    "lines\n",
    "'''\n",
    "hello"
   ]
  },
  {
   "cell_type": "code",
   "execution_count": 6,
   "metadata": {
    "collapsed": true
   },
   "outputs": [],
   "source": [
    "def example():\n",
    "    '''Functions can have documentation in the form of comment strings.\n",
    "       Returns the integer 2'''\n",
    "    return 2"
   ]
  },
  {
   "cell_type": "code",
   "execution_count": 7,
   "metadata": {
    "collapsed": false
   },
   "outputs": [
    {
     "name": "stdout",
     "output_type": "stream",
     "text": [
      "Help on function example in module __main__:\n",
      "\n",
      "example()\n",
      "    Functions can have documentation in the form of comment strings.\n",
      "    Returns the integer 2\n",
      "\n"
     ]
    }
   ],
   "source": [
    "help(example)"
   ]
  },
  {
   "cell_type": "markdown",
   "metadata": {},
   "source": [
    "Or use markdown\n",
    "\n",
    "There's also no spell check in Jupyter, so if you spot something mispelled let me know!"
   ]
  },
  {
   "cell_type": "markdown",
   "metadata": {},
   "source": [
    "***\n",
    "# Resources\n",
    "\n",
    "There is a [resources folder](https://github.com/hackoregon/hack-u-py-foundations-sum16/tree/master/resources) that I'll be posting tools, extras, google docs, ect.)\n",
    "\n",
    "Other Resources available to you:\n",
    "\n",
    "## [Stack Overflow](http://stackoverflow.com/)\n",
    "Question and answer site for all levels of programming. Not Python Specific, but it will almost certainly if you google \"Python (insert question here)\" the first 2-5 links will be Stack Overflow questions that people have asked before. \n",
    "Riley Notes: \n",
    "* Employers do look at your \"Stack Overflow Score.\"\n",
    "* Part of a larger community called Stack Exchange - http://stackexchange.com/sites\n",
    "\n",
    "Feel free to sign up for an account. People who contribute are a huge help to the community. Vote, ask/answer questions if you feel comfortable. Note: before you ask a question, make sure nobody has asked that question before. More than likely it has. \n",
    "\n",
    "If you do feel as though your question hasn't been answered, be specific. Ambiguous questions beg for more questions, so try to let people know your exact problem. \n",
    "\n",
    "[How to Ask](http://stackoverflow.com/help/how-to-ask)\n",
    "\n",
    "## Documentation\n",
    "[Python Documnentation](https://docs.python.org/3/) - Like the Python Text Book. We'll be using this throughout the course as well."
   ]
  },
  {
   "cell_type": "markdown",
   "metadata": {},
   "source": [
    "***\n",
    "# Last! Don't Be Afraid of Python!\n",
    "\n",
    "Row 1: (WS) and all other WS rows: K3, Purl until 3 sts remain, K3.\n",
    "Row 2: K6, [K2tog, YO, K1, YO, SSK, K5] 2x, K2tog, YO, K1, YO,\n",
    "SSK, K6\n",
    "Row 4: K5, [K2tog, (K1, YO) 2x, K1, SSK, K3] 2x, K2tog, (K1, YO) 2x,\n",
    "K1, SSK, K5\n",
    "Row 6: K4, [K2tog, K2, YO, K1, YO, K2, SSK, K1] 3x, K3\n",
    "Row 8: K3, K2tog, [K3, YO, K1, YO, K3, Sl 1, K2tog, PSSO] 2x, K3,\n",
    "YO, K1, YO, K3, SSK, K3\n",
    "[source](http://www.knitpicks.com/patterns/Tree_Hunting_Dishcloth__D55851220.html)\n",
    "\n",
    "### Wait, that looks hard...\n",
    "That's because it's knitting instructions\n",
    "\n",
    "What about...? \n",
    "\n",
    "- 1/2 cup (1 stick) unsalted butter\n",
    "- 3/4 cup packed dark brown sugar\n",
    "- 3/4 cup sugar\n",
    "- 2 large eggs\n",
    "- 1 teaspoon pure vanilla extract\n",
    "- 1 (12-ounce) bag semisweet chocolate chips, or chunks\n",
    "- 2 1/4 cups all-purpose flour\n",
    "- 3/4 teaspoon baking soda\n",
    "- 1 teaspoon fine salt\n",
    "\n",
    "\n",
    "1. preheat oven to 375 degrees F.\n",
    "2. melt butter in a microwave. (Alternatively melt in a small saucepan.)\n",
    "3. Whisk the sugars, eggs, butter and vanilla in a large bowl until smooth.\n",
    "4. Whisk the flour, baking soda and salt in another bowl. \n",
    "5. Stir the dry ingredients into the wet ingredients (take care not to over mix).\n",
    "6. Stir in the chocolate chips or chunks.\n",
    "7. Scoop heaping tablespoons of the dough onto cookie pan. \n",
    "8. Bake, until golden, but still soft in the center, 12 to 16 minutes, depending on how chewy or crunchy you like your cookies. \n",
    "[source](http://www.foodnetwork.com/recipes/food-network-kitchens/chocolate-chip-cookies-recipe4.html?oc=linkback)\n",
    "\n",
    "\n",
    "### ...Getting Better\n",
    "\n",
    "Riley's notes:\n",
    "- fixed vocabulary like purl, preheat, stir\n",
    "- rules about what can be said, and how their said. syntax\n",
    "- sequence of operations performed in order\n",
    "- sometimes you repeat the same steps again\n",
    "- referencing other previous steps\n",
    "- assumed knowledge about context. recipe assumes you know how to use your microwave.\n",
    "- comments in parenthases along the way so you don't screw up and understand what's going on\n",
    "\n",
    "Python Programming isn't hard, it's just learning the right words and the right rules.\n",
    "\n",
    "Python looks like this:"
   ]
  },
  {
   "cell_type": "code",
   "execution_count": 8,
   "metadata": {
    "collapsed": false
   },
   "outputs": [
    {
     "name": "stdout",
     "output_type": "stream",
     "text": [
      "5\n",
      "4\n",
      "3\n",
      "2\n",
      "1\n",
      "Liftoff!\n"
     ]
    }
   ],
   "source": [
    "for countdown in 5,4,3,2,1,'Liftoff!':\n",
    "    print(countdown)"
   ]
  },
  {
   "cell_type": "markdown",
   "metadata": {},
   "source": [
    "Python is designed to be human readable!\n",
    "\n",
    "Let's Try...\n",
    "https://www.youtube.com/watch?v=fx2zLgdkJpk"
   ]
  },
  {
   "cell_type": "code",
   "execution_count": 9,
   "metadata": {
    "collapsed": false,
    "scrolled": true
   },
   "outputs": [
    {
     "name": "stdout",
     "output_type": "stream",
     "text": [
      "Hermione says:  It's Wingardium Levi-OH-sa, not Wingardium Levios-AH\n"
     ]
    }
   ],
   "source": [
    "quote = {\n",
    "    'Ron': 'Wingardium Leviosa! Wingardium Leviosa!',\n",
    "    'Hermione': \"It's Wingardium Levi-OH-sa, not Wingardium Levios-AH\"\n",
    "}\n",
    "witch = 'Hermione'\n",
    "print (witch, 'says: ',quote[witch])"
   ]
  },
  {
   "cell_type": "code",
   "execution_count": null,
   "metadata": {
    "collapsed": true
   },
   "outputs": [],
   "source": []
  }
 ],
 "metadata": {
  "kernelspec": {
   "display_name": "Python 3",
   "language": "python",
   "name": "python3"
  },
  "language_info": {
   "codemirror_mode": {
    "name": "ipython",
    "version": 3
   },
   "file_extension": ".py",
   "mimetype": "text/x-python",
   "name": "python",
   "nbconvert_exporter": "python",
   "pygments_lexer": "ipython3",
   "version": "3.5.2"
  }
 },
 "nbformat": 4,
 "nbformat_minor": 0
}
