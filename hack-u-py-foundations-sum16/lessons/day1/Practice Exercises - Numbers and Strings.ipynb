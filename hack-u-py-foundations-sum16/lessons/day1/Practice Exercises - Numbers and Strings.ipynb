{
 "cells": [
  {
   "cell_type": "markdown",
   "metadata": {},
   "source": [
    "# Practice exersizes for ints, floats, and Strings\n",
    "\n",
    "## Numbers\n",
    "\n",
    "1. How many seconds are in an hour? Use the interactive interpreter as a calculator and multiply the number of seconds in a minute (60) by the number of minutes in an hour (also 60).\n",
    "2. Assign the result from the previous task (seconds in an hour) to a variable called seconds_per_hour.\n",
    "3. How many seconds are in a day? Use your seconds_per_hour variable.\n",
    "4. Calculate seconds per day again, but this time save the result in a variable called seconds_per_day.\n",
    "5. Divide seconds_per_day by seconds_per_hour. Use floating-point (/) division.\n",
    "6. Divide seconds_per_day by seconds_per_hour, using integer (//) division. Did this number agree with the floating-point value from the previous question, aside from the final .0?\n",
    "\n",
    "## Strings\n",
    "1. Calculate the length of the string \"Python Foundations\"\n",
    "2. Write your name as a string\n",
    "3. Store that string as the variable name\n",
    "4. Have python say hello to you using the variable name. Ex. \"Hello Riley\"\n",
    "5. Assign the variable class to \"Python Foundations\". How can we slice our string to get the results:\n",
    "\n",
    "   * 'Python'\n",
    "   * 'Foundations'\n",
    "   * 'Pyt'\n",
    "   * 'ions'\n",
    "   * 'Pytions'\n",
    "   * 'Pto onain'\n",
    "   * 'yhnFudtos'\n",
    "   \n",
    "Hint: For some of these you can add two strings together  "
   ]
  },
  {
   "cell_type": "code",
   "execution_count": null,
   "metadata": {
    "collapsed": true
   },
   "outputs": [],
   "source": []
  }
 ],
 "metadata": {
  "kernelspec": {
   "display_name": "Python 3",
   "language": "python",
   "name": "python3"
  },
  "language_info": {
   "codemirror_mode": {
    "name": "ipython",
    "version": 3
   },
   "file_extension": ".py",
   "mimetype": "text/x-python",
   "name": "python",
   "nbconvert_exporter": "python",
   "pygments_lexer": "ipython3",
   "version": "3.5.2"
  }
 },
 "nbformat": 4,
 "nbformat_minor": 0
}
