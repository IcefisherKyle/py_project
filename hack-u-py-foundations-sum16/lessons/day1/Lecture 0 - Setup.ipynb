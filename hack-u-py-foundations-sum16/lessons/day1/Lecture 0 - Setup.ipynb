{
 "cells": [
  {
   "cell_type": "markdown",
   "metadata": {
    "collapsed": true
   },
   "source": [
    "# Setup and Installation Instructions\n",
    "\n",
    "Note: even if you already have a verion of Python installed, you still need to follow these instructions. \n",
    "\n",
    "### 1. Go to the [Anaconda Installation page](https://www.continuum.io/downloads) \n",
    "Click on the Python 3.5 Graphical Installer for your system to download the installer. **Do not click the command line installer**\n",
    "\n",
    "![](../images/anaconda.png)\n",
    "\n",
    "### 2. Follow the default directions for the graphical installer you chose.\n",
    "\n",
    "![](../images/install.png)\n",
    "\n",
    "### Install Jupyter Notebooks \n",
    "\n",
    "All installation commands should be run in the Terminal (for Mac and Linux) or the Command Prompt/Powershell (Windows). (Mac users should just search for terminal in Spotlight search, Windows Users just search for either powershell or cmd in your windows search tool to find your approriate installation tool). You also have the option of using the Anaconda Command Prompt. **For the future of this class, we will refer to it as the Command Line**\n",
    "\n",
    "Go to your terminal/command prompt and type: ```conda install jupyter```\n",
    "\n",
    "You should see some text show up describing the installation. \n",
    "* It may say \"All requested packages already installed\" and that means it's already up to date.\n",
    "* It may ask you whether you want to update jupyter and give you the option (y/n). Hit y then enter, and it will download.\n",
    "\n",
    "![](../images/jupyter.png)\n",
    "\n",
    "### Open Jupyter Notebooks\n",
    "Once the installation is done, in your terminal/command prompt type: ```jupyter notebook```\n",
    "* it's ok if more text runs after it\n",
    "\n",
    "![](../images/open.png)\n",
    "\n",
    "You should eventually see a new tab open up in your browser for you to begin using Jupyter Notebooks.\n",
    "\n",
    "![](../images/home.png)\n",
    "\n",
    "### Did it work?\n",
    "Click New in the upper right hand corner, drop down, and click python.\n",
    "\n",
    "Into a cell copy and paste: ```print('Hello World!')``` and hit Shift + Enter.\n",
    "* It should output:\n",
    "```Hello World!```\n",
    "\n",
    "![](../images/notebook.png)\n",
    "\n",
    "\n",
    "\n",
    "### Check the Command Line\n",
    "1. From your Command Line (Mac/Linux = Terminal, Windows = anaconda command prompt, cmd, or powershell) type ```python``` and hit Enter.\n",
    "2. You should see three arrows like this \">>>\" \n",
    "3. copy and paste: ```print('Hello World!')``` and hit Enter.\n",
    "4. It should output: ```Hello World!```\n",
    "5. Type ```exit()``` to get out, or just close the window\n",
    "\n",
    "![](../images/py.png)\n"
   ]
  },
  {
   "cell_type": "markdown",
   "metadata": {},
   "source": [
    "***\n",
    "# Git and Github\n",
    "Git is version control software\n",
    "\n",
    "Prior to the course starting, I would like everyone to have git installed. First open the command line, and type ```git```. If you get a  long message starting with \"```usage: git [--version] [--help] [-C <path>] ...```\" , it's installed, and it's asking you what git command you'd like to use.\n",
    "\n",
    "If you get a message like \"```git: command not found```\" then you'll need to install git. \n",
    "\n",
    "Follow the directions from the [git website](https://git-scm.com/book/en/v2/Getting-Started-Installing-Git) to install git.\n",
    "\n",
    "Next, if you don't already have one, create a github account on [GitHub](https://github.com/)\n",
    "\n",
    "If you just can't wait to get started. Feel free to take the free [Git Tutorial](https://try.github.io/levels/1/challenges/1), and the check out the [Learning the Shell](http://linuxcommand.org/learning_the_shell.php) (1,2,3 and 5 from the table of contents is really all we'll need for this course). We will be going over both in class, but looking at them before will give you a leg up and help you feel comfortable using the necessary tools."
   ]
  },
  {
   "cell_type": "markdown",
   "metadata": {},
   "source": [
    "## For those that want even more\n",
    "Feel free to checkout the [tools](https://github.com/hackoregon/hack-u-py-foundations-sum16/blob/master/resources/tools.md) file in resources, and install any additional fun tools that you want.\n",
    "\n",
    "For even more beyond that get python running in your command prompt again try running ```import this```, and see what happens"
   ]
  },
  {
   "cell_type": "code",
   "execution_count": null,
   "metadata": {
    "collapsed": true
   },
   "outputs": [],
   "source": []
  }
 ],
 "metadata": {
  "anaconda-cloud": {},
  "kernelspec": {
   "display_name": "Python 2",
   "language": "python",
   "name": "python2"
  },
  "language_info": {
   "codemirror_mode": {
    "name": "ipython",
    "version": 2
   },
   "file_extension": ".py",
   "mimetype": "text/x-python",
   "name": "python",
   "nbconvert_exporter": "python",
   "pygments_lexer": "ipython2",
   "version": "2.7.11"
  }
 },
 "nbformat": 4,
 "nbformat_minor": 0
}
