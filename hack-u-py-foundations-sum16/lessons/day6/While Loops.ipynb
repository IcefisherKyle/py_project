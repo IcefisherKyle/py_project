{
 "cells": [
  {
   "cell_type": "markdown",
   "metadata": {},
   "source": [
    "# while Loops\n",
    "\n",
    "How are while loops different from for loops? While loops are like putting together a for loop with an if statment.\n",
    "\n",
    "In a for loop, we have a finite number of entries in our iterable(list,dict,tuple). In a while loop, we continue to loop until a specific condition is met.\n",
    "\n",
    "It's like saying:\n",
    "```\n",
    "if condition is true:\n",
    "    continue looping\n",
    "else:\n",
    "    break loop\n",
    "```\n",
    "\n",
    "The format of a while loop looks like this:\n",
    "\n",
    "```\n",
    "while test:\n",
    "    do this thing over and over\n",
    "else:\n",
    "    end with these last few lines of code\n",
    "```\n",
    "test is a statement that equates to True or False. While that statement is True, Python will continue to loop"
   ]
  },
  {
   "cell_type": "code",
   "execution_count": 7,
   "metadata": {
    "collapsed": false
   },
   "outputs": [
    {
     "name": "stdout",
     "output_type": "stream",
     "text": [
      "x is 0\n",
      "we will add 1 to x\n",
      "x is 1\n",
      "we will add 1 to x\n",
      "x is 2\n",
      "we will add 1 to x\n",
      "x is 3\n",
      "we will add 1 to x\n",
      "x is 4\n",
      "we will add 1 to x\n"
     ]
    }
   ],
   "source": [
    "x = 0\n",
    "\n",
    "while x < 5:\n",
    "    print('x is {}'.format(x))\n",
    "    print('we will add 1 to x')\n",
    "    x += 1"
   ]
  },
  {
   "cell_type": "markdown",
   "metadata": {},
   "source": [
    "Be sure to note how many times we loop. Once x is 5, we break the loop. Once our loop breaks, that's when we execute our else statement. Let's add one."
   ]
  },
  {
   "cell_type": "code",
   "execution_count": 8,
   "metadata": {
    "collapsed": false
   },
   "outputs": [
    {
     "name": "stdout",
     "output_type": "stream",
     "text": [
      "x is 0\n",
      "we will add 1 to x\n",
      "x is 1\n",
      "we will add 1 to x\n",
      "x is 2\n",
      "we will add 1 to x\n",
      "x is 3\n",
      "we will add 1 to x\n",
      "x is 4\n",
      "we will add 1 to x\n",
      "done!\n"
     ]
    }
   ],
   "source": [
    "x = 0\n",
    "\n",
    "while x < 5:\n",
    "    print('x is {}'.format(x))\n",
    "    print('we will add 1 to x')\n",
    "    x += 1\n",
    "else:\n",
    "    print('done!')"
   ]
  },
  {
   "cell_type": "markdown",
   "metadata": {},
   "source": [
    "## Break, Continue, and Pass\n",
    "We can use break, continue, and pass in our loops to add additional functionality in our loops.\n",
    "\n",
    "break - breaks out of the current inner-most loop\n",
    "continue - goes to the top of the closest enclosing loop.\n",
    "\n",
    "pass - don't do anything\n",
    "\n",
    "Here's what the format looks like in practice.\n",
    "```\n",
    "while test:\n",
    "    line of code\n",
    "    if second_test:\n",
    "        break\n",
    "    elif third_test:\n",
    "        continue\n",
    "else:\n",
    "    ending lines\n",
    "```\n",
    "Let's try it."
   ]
  },
  {
   "cell_type": "code",
   "execution_count": 10,
   "metadata": {
    "collapsed": false
   },
   "outputs": [
    {
     "name": "stdout",
     "output_type": "stream",
     "text": [
      "x is 0\n",
      "we will add 1 to x\n",
      "continuing...\n",
      "x is 1\n",
      "we will add 1 to x\n",
      "continuing...\n",
      "x is 2\n",
      "we will add 1 to x\n",
      "x==3\n",
      "x is 3\n",
      "we will add 1 to x\n",
      "continuing...\n",
      "x is 4\n",
      "we will add 1 to x\n",
      "continuing...\n"
     ]
    }
   ],
   "source": [
    "# continue\n",
    "x = 0\n",
    "\n",
    "while x < 5:\n",
    "    print('x is {}'.format(x))\n",
    "    print('we will add 1 to x')\n",
    "    x += 1\n",
    "    if x ==3 :\n",
    "        print('x==3')\n",
    "    else:\n",
    "        print('continuing...')\n",
    "        continue"
   ]
  },
  {
   "cell_type": "markdown",
   "metadata": {},
   "source": [
    "Notice that we print 'x == 3' rather than continuing?"
   ]
  },
  {
   "cell_type": "code",
   "execution_count": 12,
   "metadata": {
    "collapsed": false
   },
   "outputs": [
    {
     "name": "stdout",
     "output_type": "stream",
     "text": [
      "x is 0\n",
      "we will add 1 to x\n",
      "x is 1\n",
      "we will add 1 to x\n",
      "x is 2\n",
      "we will add 1 to x\n",
      "breaking cuz 3\n"
     ]
    }
   ],
   "source": [
    "# break\n",
    "x = 0\n",
    "\n",
    "while x < 5:\n",
    "    print('x is {}'.format(x))\n",
    "    print('we will add 1 to x')\n",
    "    x += 1\n",
    "    if x ==3 :\n",
    "        print('breaking cuz 3')\n",
    "        break"
   ]
  },
  {
   "cell_type": "code",
   "execution_count": 17,
   "metadata": {
    "collapsed": false
   },
   "outputs": [
    {
     "name": "stdout",
     "output_type": "stream",
     "text": [
      "x is 0\n",
      "we will add 1 to x\n",
      "x is 1\n",
      "we will add 1 to x\n",
      "x is 2\n",
      "we will add 1 to x\n",
      "x is 4\n",
      "we will add 1 to x\n",
      "blah\n"
     ]
    }
   ],
   "source": [
    "# pass\n",
    "x = 0\n",
    "\n",
    "while x < 5:\n",
    "    if x == 3:\n",
    "        pass\n",
    "        x += 1\n",
    "    else:\n",
    "        print('x is {}'.format(x))\n",
    "        print('we will add 1 to x')\n",
    "        x += 1\n",
    "print('blah')"
   ]
  },
  {
   "cell_type": "markdown",
   "metadata": {
    "collapsed": true
   },
   "source": [
    "### **Be Careful!!!** \n",
    "While loops will continue to run until the original condition is no longer met. This makes it possible to have never ending for loops, which will freeze up your computer. \n",
    "\n",
    "If you feel like you're day has been going too well, and you want to make it a little worse, run the code below.\n",
    "\n",
    "If you do get caught in a never ending for loop either hit the stop button at the top of this screen or use Control-C to stop the process."
   ]
  },
  {
   "cell_type": "code",
   "execution_count": null,
   "metadata": {
    "collapsed": true
   },
   "outputs": [],
   "source": [
    "while True:\n",
    "    print('Ahhhh never ending loop!!!')"
   ]
  },
  {
   "cell_type": "markdown",
   "metadata": {},
   "source": [
    "Originally in class, I had said that you'd never use While True, because it would go on forever. I did find a case where you might use it.\n",
    "\n",
    "When there is some conditional that you wouldn't want to run the last part of the for loop."
   ]
  },
  {
   "cell_type": "code",
   "execution_count": 4,
   "metadata": {
    "collapsed": false
   },
   "outputs": [
    {
     "name": "stdout",
     "output_type": "stream",
     "text": [
      "String to capitalize [type q to quit]: tilly\n",
      "Tilly\n",
      "String to capitalize [type q to quit]: q\n"
     ]
    }
   ],
   "source": [
    "while True:\n",
    "    stuff = input(\"String to capitalize [type q to quit]: \")\n",
    "    if stuff == \"q\":\n",
    "        break\n",
    "    print(stuff.capitalize())"
   ]
  },
  {
   "cell_type": "code",
   "execution_count": null,
   "metadata": {
    "collapsed": true
   },
   "outputs": [],
   "source": []
  }
 ],
 "metadata": {
  "kernelspec": {
   "display_name": "Python 3",
   "language": "python",
   "name": "python3"
  },
  "language_info": {
   "codemirror_mode": {
    "name": "ipython",
    "version": 3
   },
   "file_extension": ".py",
   "mimetype": "text/x-python",
   "name": "python",
   "nbconvert_exporter": "python",
   "pygments_lexer": "ipython3",
   "version": "3.5.2"
  }
 },
 "nbformat": 4,
 "nbformat_minor": 0
}
