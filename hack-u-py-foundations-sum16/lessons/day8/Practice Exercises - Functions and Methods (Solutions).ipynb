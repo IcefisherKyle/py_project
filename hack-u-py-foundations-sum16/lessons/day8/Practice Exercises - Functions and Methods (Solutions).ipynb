{
 "cells": [
  {
   "cell_type": "markdown",
   "metadata": {},
   "source": [
    "# Practice Exercises - Functions and Methods\n",
    "\n",
    "**Write a function that computes the volume of a sphere give its radius named vol.**\n",
    "\n",
    "formula: volume = V=4/3πr3\n",
    "\n",
    "aproximate π as 3.14"
   ]
  },
  {
   "cell_type": "code",
   "execution_count": 20,
   "metadata": {
    "collapsed": false
   },
   "outputs": [
    {
     "data": {
      "text/plain": [
       "113.03999999999999"
      ]
     },
     "execution_count": 20,
     "metadata": {},
     "output_type": "execute_result"
    }
   ],
   "source": [
    "def vol(radius):\n",
    "    return 4/3* 3.14*radius**3\n",
    "vol(3)"
   ]
  },
  {
   "cell_type": "markdown",
   "metadata": {},
   "source": [
    "**Write two functions that check if a number is in a given range (inclusive). The first print \"too high\" \"too low\" or \"in range!\", The second return a Boolean True or False if it is in the range or not. Name them ran_check and ran_bool**"
   ]
  },
  {
   "cell_type": "code",
   "execution_count": 21,
   "metadata": {
    "collapsed": true
   },
   "outputs": [],
   "source": [
    "def ran_check(number, low, high):\n",
    "    if number < low:\n",
    "        print('too low')\n",
    "    elif number > high:\n",
    "        print('too high')\n",
    "    else:\n",
    "        print('in range!')\n",
    "\n",
    "def ran_bool(number, low, high):\n",
    "    if number < low or number > high:\n",
    "        return False\n",
    "    else:\n",
    "        return True"
   ]
  },
  {
   "cell_type": "code",
   "execution_count": null,
   "metadata": {
    "collapsed": true
   },
   "outputs": [],
   "source": []
  },
  {
   "cell_type": "markdown",
   "metadata": {},
   "source": [
    "**Write a python function called unique_list that takes as its input a list, and returns all of the unique values of that list.**\n",
    "```\n",
    "Sample List : [1,1,1,1,2,2,3,3,3,3,4,5]\n",
    "Unique List : [1, 2, 3, 4, 5]\n",
    "```"
   ]
  },
  {
   "cell_type": "code",
   "execution_count": 22,
   "metadata": {
    "collapsed": false
   },
   "outputs": [
    {
     "data": {
      "text/plain": [
       "[1, 2, 3, 4, 5]"
      ]
     },
     "execution_count": 22,
     "metadata": {},
     "output_type": "execute_result"
    }
   ],
   "source": [
    "def unique_list(lst):\n",
    "    return list(set(lst))\n",
    "unique_list([1,1,1,1,2,2,3,3,3,3,4,5])"
   ]
  },
  {
   "cell_type": "markdown",
   "metadata": {},
   "source": [
    "**Write a Python function called multiply that multiplies all the numbers in a list.**\n",
    "```\n",
    "Sample List : [1, 2, 3, -4]\n",
    "Expected Output : -24\n",
    "```\n"
   ]
  },
  {
   "cell_type": "code",
   "execution_count": 23,
   "metadata": {
    "collapsed": false
   },
   "outputs": [
    {
     "data": {
      "text/plain": [
       "-24"
      ]
     },
     "execution_count": 23,
     "metadata": {},
     "output_type": "execute_result"
    }
   ],
   "source": [
    "def multiply(lst):\n",
    "    total = 1\n",
    "    for item in lst:\n",
    "        total *= item\n",
    "    return total\n",
    "\n",
    "multiply([1, 2, 3, -4])"
   ]
  },
  {
   "cell_type": "markdown",
   "metadata": {},
   "source": [
    "**Write a Python function that checks whether a passed string is palindrome or not.**\n",
    "\n",
    "Note: A palindrome is word, phrase, or sequence that reads the same backward as forward, \n",
    "\n",
    "e.g., madam, nurses run, kayak, taco cat\n",
    "\n",
    "bonus: Try to make a function that accepts inputs with asymmetric spaces."
   ]
  },
  {
   "cell_type": "code",
   "execution_count": 24,
   "metadata": {
    "collapsed": false
   },
   "outputs": [
    {
     "name": "stdout",
     "output_type": "stream",
     "text": [
      "True\n",
      "False\n"
     ]
    }
   ],
   "source": [
    "def is_palindrome(word):\n",
    "    word = word.replace(' ','')\n",
    "    for i in range(len(word)):\n",
    "        if word[i] != word[-i-1]:\n",
    "            return False\n",
    "    return Truelist\n",
    "print(is_palindrome('taco cat'))\n",
    "print(is_palindrome('blah'))\n"
   ]
  },
  {
   "cell_type": "markdown",
   "metadata": {},
   "source": [
    "## Bonus Questions\n",
    "\n",
    "**Write a Python function called is_panagram to check whether a string is a pangram or not.**\n",
    "\n",
    "Note : Pangrams are words or sentences containing every letter of the alphabet at least once.\n",
    "\n",
    "For example : \"The quick brown fox jumps over the lazy dog\"\n",
    "\n",
    "Hint: Look at the string module, Look at the bottom of the page for a double hint"
   ]
  },
  {
   "cell_type": "code",
   "execution_count": 35,
   "metadata": {
    "collapsed": false
   },
   "outputs": [
    {
     "data": {
      "text/plain": [
       "True"
      ]
     },
     "execution_count": 35,
     "metadata": {},
     "output_type": "execute_result"
    }
   ],
   "source": [
    "import string\n",
    "\n",
    "def is_panagram(phrase):\n",
    "    alphabet = string.ascii_lowercase\n",
    "    phrase = phrase.lower().replace(' ','')\n",
    "    if set(alphabet) == set(phrase):\n",
    "        return True\n",
    "    else:\n",
    "        return False\n",
    "# Better way\n",
    "def is_panagram(phrase):\n",
    "    alphabet = string.ascii_lowercase\n",
    "    phrase = phrase.lower().replace(' ','')\n",
    "    return set(alphabet) == set(phrase):\n",
    "\n",
    "is_panagram(\"The quick brown fox jumps over the lazy dog\")"
   ]
  },
  {
   "cell_type": "markdown",
   "metadata": {},
   "source": [
    "**Write a Python function called is_anagram to check whether two strings are angrams of one another.**\n",
    "\n",
    "Note: an anagram is a word, phrase, or name formed by rearranging the letters of another, such as cinema, formed from iceman.\n",
    "\n"
   ]
  },
  {
   "cell_type": "code",
   "execution_count": 36,
   "metadata": {
    "collapsed": false
   },
   "outputs": [
    {
     "data": {
      "text/plain": [
       "True"
      ]
     },
     "execution_count": 36,
     "metadata": {},
     "output_type": "execute_result"
    }
   ],
   "source": [
    "def is_anagram(word1,word2):\n",
    "    list1, list2 = list(word1), list(word2)\n",
    "    return sorted(list1) == sorted(list2)\n",
    "is_anagram('bat','tab')"
   ]
  },
  {
   "cell_type": "code",
   "execution_count": null,
   "metadata": {
    "collapsed": true
   },
   "outputs": [],
   "source": []
  },
  {
   "cell_type": "code",
   "execution_count": null,
   "metadata": {
    "collapsed": true
   },
   "outputs": [],
   "source": []
  },
  {
   "cell_type": "code",
   "execution_count": null,
   "metadata": {
    "collapsed": true
   },
   "outputs": [],
   "source": []
  },
  {
   "cell_type": "code",
   "execution_count": null,
   "metadata": {
    "collapsed": true
   },
   "outputs": [],
   "source": []
  },
  {
   "cell_type": "code",
   "execution_count": null,
   "metadata": {
    "collapsed": true
   },
   "outputs": [],
   "source": []
  },
  {
   "cell_type": "code",
   "execution_count": null,
   "metadata": {
    "collapsed": true
   },
   "outputs": [],
   "source": []
  },
  {
   "cell_type": "code",
   "execution_count": null,
   "metadata": {
    "collapsed": true
   },
   "outputs": [],
   "source": []
  },
  {
   "cell_type": "code",
   "execution_count": null,
   "metadata": {
    "collapsed": true
   },
   "outputs": [],
   "source": []
  },
  {
   "cell_type": "markdown",
   "metadata": {},
   "source": [
    "Double Hint: try \n",
    "```python\n",
    "import string\n",
    "string.ascii_lowercase\n",
    "```"
   ]
  },
  {
   "cell_type": "code",
   "execution_count": null,
   "metadata": {
    "collapsed": true
   },
   "outputs": [],
   "source": []
  }
 ],
 "metadata": {
  "kernelspec": {
   "display_name": "Python 3",
   "language": "python",
   "name": "python3"
  },
  "language_info": {
   "codemirror_mode": {
    "name": "ipython",
    "version": 3
   },
   "file_extension": ".py",
   "mimetype": "text/x-python",
   "name": "python",
   "nbconvert_exporter": "python",
   "pygments_lexer": "ipython3",
   "version": "3.5.2"
  }
 },
 "nbformat": 4,
 "nbformat_minor": 0
}
