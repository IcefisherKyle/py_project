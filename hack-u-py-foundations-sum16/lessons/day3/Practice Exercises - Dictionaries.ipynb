{
 "cells": [
  {
   "cell_type": "markdown",
   "metadata": {},
   "source": [
    "Make an English-to-Spanish dictionary called e2s and print it. Here are your starter words: dog is perro, cat is gato, and walrus is morsa.\n",
    "\n",
    "Using your three-word dictionary e2s, print the Spanish word for walrus.\n",
    "\n",
    "Use the items method to view all of the items in our e3s dictionary, and set it to the variable \"items\"\n",
    "\n",
    "Create an empty dictionary called s2e. Copy, paste, and run the code below to make a Spanish-to-English dictionary called s2e from e2s.\n",
    "\n",
    "Using s2e, print the English equivalent of the Spanish word perro.\n",
    "\n",
    "Make and print a set of English words from the keys in e2s.\n",
    "\n",
    "Now print a set of the same words using the s2e dictionary\n",
    "\n",
    "Make a multilevel dictionary called life. Use these strings for the topmost keys: 'animals', 'plants', and 'other'. Make the 'animals' key refer to another dictionary with the keys 'cats', 'octopi', and 'emus'. Make the 'cats' key refer to a list of strings with the values 'Henri', 'Grumpy', and 'Lucy'. Make all the other keys refer to empty dictionaries.(Feel free to do this in multiple steps\n",
    "\n",
    "Print the top-level keys of life. (optional: try printing it as a plain list)\n",
    "\n",
    "Print the keys for animals, calling the life dictionary.\n",
    "\n",
    "Print the values for cats, calling the life dictionary."
   ]
  },
  {
   "cell_type": "code",
   "execution_count": null,
   "metadata": {
    "collapsed": false
   },
   "outputs": [],
   "source": [
    "for english, spanish in e2s.items():\n",
    "    s2e[spanish] = english"
   ]
  }
 ],
 "metadata": {
  "kernelspec": {
   "display_name": "Python 3",
   "language": "python",
   "name": "python3"
  },
  "language_info": {
   "codemirror_mode": {
    "name": "ipython",
    "version": 3
   },
   "file_extension": ".py",
   "mimetype": "text/x-python",
   "name": "python",
   "nbconvert_exporter": "python",
   "pygments_lexer": "ipython3",
   "version": "3.5.2"
  }
 },
 "nbformat": 4,
 "nbformat_minor": 0
}
