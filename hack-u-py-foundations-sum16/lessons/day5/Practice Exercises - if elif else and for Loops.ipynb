{
 "cells": [
  {
   "cell_type": "markdown",
   "metadata": {},
   "source": [
    "# if/elif/else  and for Loop Practice\n",
    "\n",
    "1. Assign the value 7 to the variable guess_me. Then, write the conditional tests (if, else, and elif) to print the string 'too low' if guess_me is less than 7, 'too high' if greater than 7, and 'just right' if equal to 7.\n",
    "\n",
    "range is a way for us to create an object to iterate over a specific number of times. try printing:\n",
    "```\n",
    "print(range(10))\n",
    "```\n",
    "```\n",
    "print(list(range(10)))\n",
    "```\n",
    "and \n",
    "```\n",
    "for number in range(10):\n",
    "    print(number)\n",
    "```\n",
    "to get a feel for how range works.\n",
    "\n",
    "2. Create a for loop that has 10 iterations, and use our logic from the last quesiton to test whether the number we're counting is smaller, equal, or larger than 7.\n",
    "\n",
    "2. Set the list [3, 2, 1, 0] to the variable iterable. Use a for loop to print the values.\n",
    "\n",
    "3. Use a for loop to print each value of our iterable list + 3.\n",
    "\n",
    "4. Create a new empty list iterable_plus_3. Use a for loop to fill our new iterable_plus_3 list with the same values as iterable increased by 3. Be sure to print iterable_plus_3 to confirm it is correct\n",
    "\n",
    "5. Create an empty list iterable_odds. Use a for loop to fill our new list with all the odd numbers from iterable.\n",
    "\n",
    "6. (difficult, attempt to build one piece at a time) create an dictionary called iterable_dict where 'even' and 'odd' keys set to the integer 0. Create a for loop that counts the number of even numbers and odd numbers in your list iterable_plus_3.(Bonus: try do do the same thing starting with an empty dictionary)\n",
    "\n",
    "## Solutions\n",
    "\n",
    "Assign the value 7 to the variable guess_me. Then, write the conditional tests (if, else, and elif) to print the string 'too low' if guess_me is less than 7, 'too high' if greater than 7, and 'just right' if equal to 7."
   ]
  },
  {
   "cell_type": "code",
   "execution_count": null,
   "metadata": {
    "collapsed": true
   },
   "outputs": [],
   "source": []
  },
  {
   "cell_type": "markdown",
   "metadata": {},
   "source": [
    "Create a for loop that has 10 iterations, and use our logic from the last quesiton to test whether the number we're counting is smaller, equal, or larger than 7."
   ]
  },
  {
   "cell_type": "code",
   "execution_count": null,
   "metadata": {
    "collapsed": false
   },
   "outputs": [],
   "source": []
  },
  {
   "cell_type": "code",
   "execution_count": null,
   "metadata": {
    "collapsed": false
   },
   "outputs": [],
   "source": []
  },
  {
   "cell_type": "markdown",
   "metadata": {},
   "source": [
    "Set the list [3, 2, 1, 0] to the variable iterable. Use a for loop to print the values."
   ]
  },
  {
   "cell_type": "code",
   "execution_count": null,
   "metadata": {
    "collapsed": false
   },
   "outputs": [],
   "source": []
  },
  {
   "cell_type": "markdown",
   "metadata": {},
   "source": [
    "Use a for loop to print each value of our iterable list + 3."
   ]
  },
  {
   "cell_type": "code",
   "execution_count": null,
   "metadata": {
    "collapsed": false
   },
   "outputs": [],
   "source": []
  },
  {
   "cell_type": "markdown",
   "metadata": {},
   "source": [
    "Create a new empty list iterable_plus_3. Use a for loop to fill our new iterable_plus_3 list with the same values as iterable increased by 3. Be sure to print iterable_plus_3 to confirm it is correct."
   ]
  },
  {
   "cell_type": "code",
   "execution_count": null,
   "metadata": {
    "collapsed": false
   },
   "outputs": [],
   "source": []
  }
 ],
 "metadata": {
  "kernelspec": {
   "display_name": "Python 3",
   "language": "python",
   "name": "python3"
  },
  "language_info": {
   "codemirror_mode": {
    "name": "ipython",
    "version": 3
   },
   "file_extension": ".py",
   "mimetype": "text/x-python",
   "name": "python",
   "nbconvert_exporter": "python",
   "pygments_lexer": "ipython3",
   "version": "3.5.2"
  }
 },
 "nbformat": 4,
 "nbformat_minor": 0
}
