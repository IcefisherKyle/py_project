{
 "cells": [
  {
   "cell_type": "markdown",
   "metadata": {
    "collapsed": true
   },
   "source": [
    "# for Loops!\n",
    "\n",
    "Finally! We've seen a few examples so far, now we can finally understand  what they are doing!\n",
    "\n",
    "**Use for loops when you want to do the same thing many times**\n",
    "\n",
    "If an object is a sequence or \"iterable\", then you can run a for loop over every item in that object. Objects that we've seen that we can iterate over are:\n",
    "\n",
    "* strings\n",
    "* lists\n",
    "* tuples\n",
    "* dictionaries (and built in keys, values, and items methods)\n",
    "\n",
    "The syntax for a **for** loop is:\n",
    "```python\n",
    "for item in object:\n",
    "    statement to do something\n",
    "```\n",
    "* for - you'll always start a for loop with the word for\n",
    "* item - is the temporary variable name that we're assigning to each \"item\" in object. \n",
    "* in - will always be in a for loop\n",
    "* object - is the item that we are iterating over\n",
    "* followed by a colon (:) and a new line\n",
    "*     next line has indented space with instructions of what you'd like to do inside that loop\n",
    "\n",
    "As I'm attempting to write this down, I'm thinking it'd be easier to just see some examples."
   ]
  },
  {
   "cell_type": "code",
   "execution_count": 1,
   "metadata": {
    "collapsed": true
   },
   "outputs": [],
   "source": [
    "l = [1,2,3,4,5,6,7,8,9,10]"
   ]
  },
  {
   "cell_type": "code",
   "execution_count": 11,
   "metadata": {
    "collapsed": false
   },
   "outputs": [
    {
     "name": "stdout",
     "output_type": "stream",
     "text": [
      "1\n",
      "2\n",
      "3\n",
      "4\n",
      "5\n",
      "6\n",
      "7\n",
      "8\n",
      "9\n",
      "10\n"
     ]
    }
   ],
   "source": [
    "# if I wanted to print every item in this list, from what we've learned\n",
    "# so far I would need to write 10 lines of code\n",
    "print(l[0])\n",
    "print(l[1])\n",
    "print(l[2])\n",
    "print(l[3])\n",
    "print(l[4])\n",
    "print(l[5])\n",
    "print(l[6])\n",
    "print(l[7])\n",
    "print(l[8])\n",
    "print(l[9])"
   ]
  },
  {
   "cell_type": "code",
   "execution_count": 2,
   "metadata": {
    "collapsed": false
   },
   "outputs": [
    {
     "name": "stdout",
     "output_type": "stream",
     "text": [
      "1\n",
      "2\n",
      "3\n",
      "4\n",
      "5\n",
      "6\n",
      "7\n",
      "8\n",
      "9\n",
      "10\n"
     ]
    }
   ],
   "source": [
    "#Loops allow us to do the same thing, just with much fewer lines of code.\n",
    "\n",
    "# number is our temporary variable name that is reassigned every iteration.\n",
    "# l is our object that we're iterating over.\n",
    "\n",
    "for number in l:\n",
    "    print(number)"
   ]
  },
  {
   "cell_type": "code",
   "execution_count": 4,
   "metadata": {
    "collapsed": false
   },
   "outputs": [
    {
     "name": "stdout",
     "output_type": "stream",
     "text": [
      "2\n",
      "4\n",
      "6\n",
      "8\n",
      "10\n"
     ]
    }
   ],
   "source": [
    "# Let's put for loops together with if/else what we learned before.\n",
    "for number in l:\n",
    "    if number % 2 == 0:\n",
    "        print(number)"
   ]
  },
  {
   "cell_type": "code",
   "execution_count": 5,
   "metadata": {
    "collapsed": false
   },
   "outputs": [
    {
     "name": "stdout",
     "output_type": "stream",
     "text": [
      "It's an odd number\n",
      "2\n",
      "It's an odd number\n",
      "4\n",
      "It's an odd number\n",
      "6\n",
      "It's an odd number\n",
      "8\n",
      "It's an odd number\n",
      "10\n"
     ]
    }
   ],
   "source": [
    "# Let's put for loops together with if/else what we learned before.\n",
    "for number in l:\n",
    "    if number % 2 == 0:\n",
    "        print(number)\n",
    "    else:\n",
    "        print(\"It's an odd number\")"
   ]
  },
  {
   "cell_type": "code",
   "execution_count": 8,
   "metadata": {
    "collapsed": false
   },
   "outputs": [
    {
     "name": "stdout",
     "output_type": "stream",
     "text": [
      "55\n"
     ]
    }
   ],
   "source": [
    "# Another application of a for loop is to keep count or sum of something\n",
    "list_sum = 0\n",
    "for number in l:\n",
    "    list_sum += number\n",
    "print(list_sum)"
   ]
  },
  {
   "cell_type": "code",
   "execution_count": 9,
   "metadata": {
    "collapsed": false
   },
   "outputs": [
    {
     "name": "stdout",
     "output_type": "stream",
     "text": [
      "T\n",
      "h\n",
      "i\n",
      "s\n",
      " \n",
      "i\n",
      "s\n",
      " \n",
      "a\n",
      " \n",
      "s\n",
      "t\n",
      "r\n",
      "i\n",
      "n\n",
      "g\n",
      "!\n"
     ]
    }
   ],
   "source": [
    "# Let's try to loop over a string.\n",
    "for letter in 'This is a string!':\n",
    "    print(letter)"
   ]
  },
  {
   "cell_type": "code",
   "execution_count": 12,
   "metadata": {
    "collapsed": false
   },
   "outputs": [
    {
     "name": "stdout",
     "output_type": "stream",
     "text": [
      "1\n",
      "2\n",
      "3\n",
      "4\n",
      "5\n"
     ]
    }
   ],
   "source": [
    "# Let's try to loop over a tuple\n",
    "tup = (1,2,3,4,5)\n",
    "\n",
    "for t in tup:\n",
    "    print(t)"
   ]
  },
  {
   "cell_type": "code",
   "execution_count": 15,
   "metadata": {
    "collapsed": false
   },
   "outputs": [
    {
     "name": "stdout",
     "output_type": "stream",
     "text": [
      "1\n",
      "two\n",
      "3.0\n",
      "four\n",
      "5\n"
     ]
    }
   ],
   "source": [
    "# What about a tuple of lists\n",
    "lst = [1,'two',3.0,'four',5]\n",
    "for item in lst:\n",
    "    print(item)"
   ]
  },
  {
   "cell_type": "code",
   "execution_count": 24,
   "metadata": {
    "collapsed": false
   },
   "outputs": [
    {
     "name": "stdout",
     "output_type": "stream",
     "text": [
      "k2\n",
      "k1\n",
      "k3\n"
     ]
    }
   ],
   "source": [
    "# Dictionaries???\n",
    "d = {'k1':1,'k2':2,'k3':3}\n",
    "\n",
    "for item in d:\n",
    "    print(item)"
   ]
  },
  {
   "cell_type": "markdown",
   "metadata": {},
   "source": [
    "Notice that it defaults to returning keys. If we want just values, or both keys and values, we'll need to use our .values() and .items() methods, respectively."
   ]
  },
  {
   "cell_type": "code",
   "execution_count": 26,
   "metadata": {
    "collapsed": false
   },
   "outputs": [
    {
     "data": {
      "text/plain": [
       "dict_values([2, 1, 3])"
      ]
     },
     "execution_count": 26,
     "metadata": {},
     "output_type": "execute_result"
    }
   ],
   "source": [
    "d.values()"
   ]
  },
  {
   "cell_type": "code",
   "execution_count": 28,
   "metadata": {
    "collapsed": false
   },
   "outputs": [
    {
     "name": "stdout",
     "output_type": "stream",
     "text": [
      "this value is equal to 3\n"
     ]
    }
   ],
   "source": [
    "for value in d.values():\n",
    "    if value == 3:\n",
    "        print('this value is equal to 3')"
   ]
  },
  {
   "cell_type": "code",
   "execution_count": 30,
   "metadata": {
    "collapsed": false
   },
   "outputs": [
    {
     "name": "stdout",
     "output_type": "stream",
     "text": [
      "('k2', 2)\n",
      "('k1', 1)\n",
      "('k3', 3)\n"
     ]
    }
   ],
   "source": [
    "for item in d.items():\n",
    "    print(item)"
   ]
  },
  {
   "cell_type": "markdown",
   "metadata": {},
   "source": [
    "# Python 2 Alert!!!\n",
    "When working with Python 2, you may see the method d.iteritems(). The etymology of this is dict.items() in python 2 originally returned a full list of tuples, which took up a lot of memory. Later versions of Python 2 created dict.iteritems() which created a generator (will cover generators later), which is much less memory intensive. Basically it only uses one value at a time rather than returning an entire list.\n",
    "\n",
    "When Python 3 was introduced, they changed up the names so that dict.items() now returns the generator\n",
    "\n",
    "\n",
    "For our example we'll use d = {'k1':1,'k2':2,'k3':3}.\n",
    "\n",
    "### Python 2\n",
    "```python\n",
    ">>> d.items()\n",
    "[('k3', 3), ('k2', 2), ('k1', 1)]\n",
    "\n",
    ">>> d.iteritems()\n",
    "<dictionary-itemiterator object at 0x1004d2c58>\n",
    "\n",
    ">>> for i in d.iteritems():\n",
    "...     print i\n",
    "('k3', 3)\n",
    "('k2', 2)\n",
    "('k1', 1)\n",
    "```\n",
    "\n",
    "### Python 3\n",
    "```python\n",
    ">>> d.items()\n",
    "dict_items([('k1', 1), ('k3', 3), ('k2', 2)])\n",
    "\n",
    ">>> d.iteritems()\n",
    "Traceback (most recent call last):\n",
    "  File \"<stdin>\", line 1, in <module>\n",
    "AttributeError: 'dict' object has no attribute 'iteritems'\n",
    "\n",
    ">>> for i in d.items():\n",
    "...     print(i)\n",
    "... \n",
    "('k1', 1)\n",
    "('k3', 3)\n",
    "('k2', 2)\n",
    "```\n"
   ]
  },
  {
   "cell_type": "code",
   "execution_count": 18,
   "metadata": {
    "collapsed": false
   },
   "outputs": [
    {
     "name": "stdout",
     "output_type": "stream",
     "text": [
      "(2, 4)\n",
      "(6, 8)\n",
      "(10, 12)\n"
     ]
    }
   ],
   "source": [
    "# Tuple unpacking within for loops\n",
    "l = [(2,4),(6,8),(10,12)]\n",
    "\n",
    "for tup in l:\n",
    "    print(tup)"
   ]
  },
  {
   "cell_type": "code",
   "execution_count": 21,
   "metadata": {
    "collapsed": false
   },
   "outputs": [
    {
     "name": "stdout",
     "output_type": "stream",
     "text": [
      "2\n",
      "2.0\n",
      "6\n",
      "4.0\n",
      "10\n",
      "6.0\n"
     ]
    }
   ],
   "source": [
    "for (t1,t2) in l:\n",
    "    print(t1)\n",
    "    print(t2/2)"
   ]
  },
  {
   "cell_type": "code",
   "execution_count": 22,
   "metadata": {
    "collapsed": false
   },
   "outputs": [
    {
     "name": "stdout",
     "output_type": "stream",
     "text": [
      "2\n",
      "2.0\n",
      "6\n",
      "4.0\n",
      "10\n",
      "6.0\n"
     ]
    }
   ],
   "source": [
    "for t1,t2 in l:\n",
    "    print(t1)\n",
    "    print(t2/2)"
   ]
  },
  {
   "cell_type": "code",
   "execution_count": 37,
   "metadata": {
    "collapsed": false
   },
   "outputs": [
    {
     "name": "stdout",
     "output_type": "stream",
     "text": [
      "the value, 8, for key, k2, is now 16\n",
      "the value, 4, for key, k1, is now 8\n",
      "the value, 12, for key, k3, is now 24\n",
      "{'k2': 16, 'k1': 8, 'k3': 24}\n",
      "(0, (2, 4))\n",
      "(1, (6, 8))\n",
      "(2, (10, 12))\n"
     ]
    }
   ],
   "source": [
    "# The same tuple unpacking can be done with other generators\n",
    "for key, value in d.items():\n",
    "    print('the value, {}, for key, {}, is now {}'.format(value, key, value * 2))\n",
    "    d[key] = value * 2\n",
    "print(d)"
   ]
  },
  {
   "cell_type": "code",
   "execution_count": 45,
   "metadata": {
    "collapsed": false
   },
   "outputs": [
    {
     "name": "stdout",
     "output_type": "stream",
     "text": [
      "<enumerate object at 0x1080e3870>\n"
     ]
    }
   ],
   "source": [
    "# enumerate\n",
    "l = ['one','two','three','four']\n",
    "\n",
    "print(enumerate(l))"
   ]
  },
  {
   "cell_type": "code",
   "execution_count": null,
   "metadata": {
    "collapsed": true
   },
   "outputs": [],
   "source": [
    "for i in enumerate(l):\n",
    "    print(i)"
   ]
  },
  {
   "cell_type": "code",
   "execution_count": 42,
   "metadata": {
    "collapsed": false
   },
   "outputs": [
    {
     "name": "stdout",
     "output_type": "stream",
     "text": [
      "0\n",
      "one\n",
      "1\n",
      "two\n",
      "2\n",
      "three\n",
      "3\n",
      "four\n"
     ]
    }
   ],
   "source": [
    "# you can tuple unpack our result. note: it's a bad habit to name a variable index\n",
    "for index, item in enumerate(l):\n",
    "    print(index)\n",
    "    print(item)"
   ]
  },
  {
   "cell_type": "code",
   "execution_count": 25,
   "metadata": {
    "collapsed": false
   },
   "outputs": [
    {
     "name": "stdout",
     "output_type": "stream",
     "text": [
      "yay\n",
      "yay\n",
      "yay\n"
     ]
    }
   ],
   "source": [
    "# It's worth noting, what happens in the for loop doesn't need to\n",
    "# use the object that it's iterating over\n",
    "for i in l:\n",
    "    print('yay')"
   ]
  },
  {
   "cell_type": "code",
   "execution_count": null,
   "metadata": {
    "collapsed": true
   },
   "outputs": [],
   "source": []
  }
 ],
 "metadata": {
  "kernelspec": {
   "display_name": "Python 3",
   "language": "python",
   "name": "python3"
  },
  "language_info": {
   "codemirror_mode": {
    "name": "ipython",
    "version": 3
   },
   "file_extension": ".py",
   "mimetype": "text/x-python",
   "name": "python",
   "nbconvert_exporter": "python",
   "pygments_lexer": "ipython3",
   "version": "3.5.2"
  }
 },
 "nbformat": 4,
 "nbformat_minor": 0
}
