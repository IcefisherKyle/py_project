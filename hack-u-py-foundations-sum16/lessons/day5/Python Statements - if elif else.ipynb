{
 "cells": [
  {
   "cell_type": "markdown",
   "metadata": {},
   "source": [
    "# Intro to Python Statements\n",
    "\n",
    "Without boring you too much, we're going to quickly cover python syntax and white space. Remember in the beginning when I said python was human readable?\n",
    "```\n",
    "Version 1 (Other Languages)\n",
    "if (a>b){\n",
    "    a = 2;\n",
    "    b = 4;\n",
    "}\n",
    "\n",
    "Version 2 (Python)\n",
    "if a>b:\n",
    "    a = 2\n",
    "    b = 4\n",
    "```    \n",
    "Other languages use () and {} and ; to tell the computer what's happening and where. Python instead uses a :, whitespace, and a line ending.\n",
    "```\n",
    "Other Languages\n",
    "if (x)\n",
    "    if(y)\n",
    "        code-statement;\n",
    "else\n",
    "    another-code-statement;\n",
    "\n",
    "Python\n",
    "if x:\n",
    "    if y:\n",
    "        code-statement\n",
    "else:\n",
    "    another-code-statement\n",
    "```\n",
    "\n",
    "Note: So Far we've covered different types and data structures within python. We can think about thses like our nouns. They are the objects that the sentences are about. With the introduction of statements, we now are esentially learning our verbs. We're learning the actions, that can be used in conjunction with the \"words\" we've already know."
   ]
  },
  {
   "cell_type": "markdown",
   "metadata": {},
   "source": [
    "# if, elif, else Statements\n",
    "\n",
    "If statements allow us to make decisions in python that we set. You can think of it like a fork in the road.\n",
    "\n",
    "We can think about it like telling the computer \"if this case happens, then you should do this.\"\n",
    "\n",
    "beyond that we can use an elif else statement\n",
    "\n",
    "\"If this case1 happens, then you should do this, else if the other case2 happens, then do that, else-- none of the above cases happened, you should do the other thing.\"\n",
    "\n",
    "The syntax looks like this:\n",
    "\n",
    "```python\n",
    "if case1:\n",
    "    do this\n",
    "elif case2:\n",
    "    do that\n",
    "else:\n",
    "    do the other thing\n",
    "```\n",
    "\n",
    "**Notice that the code we want to run when the condition is True is under the statement and indented over by 4 spaces. **"
   ]
  },
  {
   "cell_type": "code",
   "execution_count": 1,
   "metadata": {
    "collapsed": false
   },
   "outputs": [
    {
     "name": "stdout",
     "output_type": "stream",
     "text": [
      "It's true\n"
     ]
    }
   ],
   "source": [
    "# Most simply we have\n",
    "if True:\n",
    "    print(\"It's true\")"
   ]
  },
  {
   "cell_type": "code",
   "execution_count": 2,
   "metadata": {
    "collapsed": false
   },
   "outputs": [
    {
     "name": "stdout",
     "output_type": "stream",
     "text": [
      "This is printed when X is not True\n"
     ]
    }
   ],
   "source": [
    "x = False\n",
    "if x:\n",
    "    print('X was True!')\n",
    "else:\n",
    "    print('This is printed when X is not True')"
   ]
  },
  {
   "cell_type": "markdown",
   "metadata": {},
   "source": [
    "Other Examples"
   ]
  },
  {
   "cell_type": "code",
   "execution_count": 1,
   "metadata": {
    "collapsed": false
   },
   "outputs": [
    {
     "name": "stdout",
     "output_type": "stream",
     "text": [
      "Whoa!\n"
     ]
    }
   ],
   "source": [
    "disaster = True\n",
    "\n",
    "if disaster:\n",
    "    print('Whoa!')\n",
    "else:\n",
    "    print('Weeeeee!')"
   ]
  },
  {
   "cell_type": "code",
   "execution_count": 2,
   "metadata": {
    "collapsed": false
   },
   "outputs": [
    {
     "name": "stdout",
     "output_type": "stream",
     "text": [
      "Weeeeee!\n"
     ]
    }
   ],
   "source": [
    "disaster = False\n",
    "\n",
    "if disaster:\n",
    "    print('Whoa!')\n",
    "else:\n",
    "    print('Weeeeee!')"
   ]
  },
  {
   "cell_type": "code",
   "execution_count": 7,
   "metadata": {
    "collapsed": false
   },
   "outputs": [
    {
     "name": "stdout",
     "output_type": "stream",
     "text": [
      "x is 7!\n"
     ]
    }
   ],
   "source": [
    "x = 7\n",
    "\n",
    "if x == 5:\n",
    "    print('x is 5!')\n",
    "elif x == 7:\n",
    "    print('x is 7!')\n",
    "else:\n",
    "    print('x is neither 5 nor 7')"
   ]
  },
  {
   "cell_type": "markdown",
   "metadata": {},
   "source": [
    "## Multiple branching if statements\n",
    "\n",
    "Let's see our full repitoire of if, elif, and else"
   ]
  },
  {
   "cell_type": "code",
   "execution_count": 16,
   "metadata": {
    "collapsed": false
   },
   "outputs": [
    {
     "name": "stdout",
     "output_type": "stream",
     "text": [
      "Welcome to Class\n"
     ]
    }
   ],
   "source": [
    "location = 'Centrl Office'\n",
    "\n",
    "if location == 'home':\n",
    "    print('Welcome Home!')\n",
    "elif location == 'Centrl Office' or 'OMSI':\n",
    "    print('Welcome to Class')\n",
    "elif location == 'Work':\n",
    "    print('Someone has a case of the Mondays')\n",
    "else:\n",
    "    print('Uh Oh... Where are you???')"
   ]
  },
  {
   "cell_type": "code",
   "execution_count": 6,
   "metadata": {
    "collapsed": false
   },
   "outputs": [
    {
     "name": "stdout",
     "output_type": "stream",
     "text": [
      "Who are you?\n"
     ]
    }
   ],
   "source": [
    "person = 'Bob'\n",
    "\n",
    "if person == 'Sammy':\n",
    "    print(\"What's up Sammy!\")\n",
    "elif person == 'Erika':\n",
    "    print('Hey Erika')\n",
    "else:\n",
    "    print('Who are you?')"
   ]
  },
  {
   "cell_type": "code",
   "execution_count": 17,
   "metadata": {
    "collapsed": false
   },
   "outputs": [
    {
     "data": {
      "text/plain": [
       "True"
      ]
     },
     "execution_count": 17,
     "metadata": {},
     "output_type": "execute_result"
    }
   ],
   "source": [
    "vowels = 'aeiou'\n",
    "letter = 'o'\n",
    "letter in vowels"
   ]
  },
  {
   "cell_type": "code",
   "execution_count": 19,
   "metadata": {
    "collapsed": false
   },
   "outputs": [
    {
     "name": "stdout",
     "output_type": "stream",
     "text": [
      "o is a vowel\n"
     ]
    }
   ],
   "source": [
    "if letter in vowels:\n",
    "    print('{} is a vowel'.format(letter))"
   ]
  },
  {
   "cell_type": "markdown",
   "metadata": {},
   "source": [
    "### Note on Indentation\n",
    "It is important to keep track of how indentation works in Python. The code you want to run is directly under the statement and is indented. We'll see this again in functions."
   ]
  },
  {
   "cell_type": "markdown",
   "metadata": {
    "collapsed": true
   },
   "source": [
    "## More Advanced\n",
    "\n",
    "All if statements equate to \"True\" or \"False\". Look back at our previous examples, and you'll see that if you took away the if and the colon and ran the line by itself, it would equate to either True or False.\n",
    "\n",
    "An important note to make is that if/else statements also operate on objects that are Truth-y and False-y. Things that may not equate to a True or False directly, but Python will treat one way or another"
   ]
  },
  {
   "cell_type": "code",
   "execution_count": 12,
   "metadata": {
    "collapsed": false
   },
   "outputs": [
    {
     "name": "stdout",
     "output_type": "stream",
     "text": [
      "This thing is false\n"
     ]
    }
   ],
   "source": [
    "# False-y values. Play around with these\n",
    "False\n",
    "None\n",
    "0\n",
    "0.0\n",
    "''\n",
    "[]\n",
    "()\n",
    "{}\n",
    "set()\n",
    "\n",
    "if []:\n",
    "    print('yay')\n",
    "else:\n",
    "    print('This thing is false')"
   ]
  },
  {
   "cell_type": "code",
   "execution_count": 15,
   "metadata": {
    "collapsed": false
   },
   "outputs": [
    {
     "name": "stdout",
     "output_type": "stream",
     "text": [
      "yay!\n",
      "yay!\n",
      "yay!\n"
     ]
    }
   ],
   "source": [
    "# Everything else is equated to True\n",
    "if 'this is not an empty string':\n",
    "    print('yay!')\n",
    "else:\n",
    "    print('this is false')\n",
    "    \n",
    "if [3]:\n",
    "    print('yay!')\n",
    "else:\n",
    "    print('this is false')\n",
    "\n",
    "if {'key1':1}:\n",
    "    print('yay!')\n",
    "else:\n",
    "    print('this is false')"
   ]
  },
  {
   "cell_type": "code",
   "execution_count": null,
   "metadata": {
    "collapsed": true
   },
   "outputs": [],
   "source": []
  }
 ],
 "metadata": {
  "kernelspec": {
   "display_name": "Python 3",
   "language": "python",
   "name": "python3"
  },
  "language_info": {
   "codemirror_mode": {
    "name": "ipython",
    "version": 3
   },
   "file_extension": ".py",
   "mimetype": "text/x-python",
   "name": "python",
   "nbconvert_exporter": "python",
   "pygments_lexer": "ipython3",
   "version": "3.5.2"
  }
 },
 "nbformat": 4,
 "nbformat_minor": 0
}
