{
 "cells": [
  {
   "cell_type": "markdown",
   "metadata": {},
   "source": [
    "### Whitespace\n",
    "![](https://i.ytimg.com/vi/ppspz2ZiBaY/maxresdefault.jpg)\n",
    "\n",
    "* Whitespace is used to denote \"blocks\"\n",
    "* In other languages curly brackets ({ and }) are common. \n",
    "* **def, if, elif, else, try, catch, finally, with, for, while, and class** all start blocks. \n",
    "\n",
    "When you indent, it becomes a child of the previous line. In addition to the indentation, the parent also has a colon following it:\n",
    "\n",
    "```\n",
    "im_a_parent:\n",
    "    im_a_child:\n",
    "        im_a_grandchild\n",
    "    im_another_child:\n",
    "        im_another_grand_child\n",
    "```\n",
    "\n",
    "\n",
    "To end a block, you simple outdent, and you will have siblings. In the above im_a_child and im_another_child are siblings.\n",
    "\n",
    "http://stackoverflow.com/questions/13884499/what-is-python-whitespace-and-how-does-it-work\n"
   ]
  },
  {
   "cell_type": "markdown",
   "metadata": {},
   "source": [
    "This Code...\n",
    "```HTML\n",
    "<!DOCTYPE html>\n",
    "<html>\n",
    "    <body>\n",
    "        <h1>My First Heading</h1>\n",
    "        <p>My first paragraph.</p>\n",
    "    </body>\n",
    "</html>\n",
    "```\n",
    "can also be writen...\n",
    "```HTML\n",
    "<!DOCTYPE html>\n",
    "<html>\n",
    "<body>\n",
    "<h1>My First Heading</h1>\n",
    "<p>My first paragraph.</p>\n",
    "</body>\n",
    "</html>\n",
    "```\n",
    "\n",
    "This Code\n",
    "\n",
    "```python\n",
    "student_list = ['student','name']\n",
    "def hello(student_list):\n",
    "    for name in student_list:\n",
    "        if name[0] = 'R'\n",
    "            print name + ' is the instructor'\n",
    "        else:\n",
    "            print('hello '+name+'!') \n",
    "```\n",
    "cannot be written\n",
    "```python\n",
    "student_list = ['student','name']\n",
    "def hello(student_list):\n",
    "for name in student_list:\n",
    "if name[0] = 'R'\n",
    "print name + ' is the instructor'\n",
    "else:\n",
    "print('hello '+name+'!') \n",
    "```\n",
    "This isn't 100% critical to understand now. I bring it up to show you that python is meant to be human readable. It generally only troublesome to those learning python as a second language. What you trade for with less freedom of spacing, you gain with readability and not having to keep track of/close brakets.\n",
    "    "
   ]
  },
  {
   "cell_type": "code",
   "execution_count": null,
   "metadata": {
    "collapsed": true
   },
   "outputs": [],
   "source": []
  }
 ],
 "metadata": {
  "kernelspec": {
   "display_name": "Python 2",
   "language": "python",
   "name": "python2"
  },
  "language_info": {
   "codemirror_mode": {
    "name": "ipython",
    "version": 2
   },
   "file_extension": ".py",
   "mimetype": "text/x-python",
   "name": "python",
   "nbconvert_exporter": "python",
   "pygments_lexer": "ipython2",
   "version": "2.7.11"
  }
 },
 "nbformat": 4,
 "nbformat_minor": 0
}
