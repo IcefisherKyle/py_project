{
 "cells": [
  {
   "cell_type": "markdown",
   "metadata": {},
   "source": [
    "### When would I use this? (Pick list, dictionary, tuple, or set)\n",
    "\n",
    "[Pep8](https://www.python.org/dev/peps/pep-0008/) - is the \"Style Guide\" for python. Code is more often read than written, so one of the Python Community's goals is to set up conventions that make Python Code more readable. It isn't absolutely necessary to follow these standards (Python works without them), but helps whoever might want to read our code after we've written it, including you! Be nice to yourself and develop good habits now\n",
    "\n",
    "Creating data structures with large amounts of data will often create very long lines of code. You can break them up with whitespace (generally in multiples of 4 spaces). Also, it's convention to keep lines of code under 80 characters long, so that you can compare two files side by side on the same screen.\n",
    "\n",
    "Examples:\n",
    "\n",
    "```python\n",
    "# long version of a dictionary, maybe easy to read now, but as they get longer it's harder to keep track of.\n",
    "our_dictionary = {'key1':'value1','key2':'value2','key3':{'key4':'value4','key5':'value5','key6':'value6'}}\n",
    "\n",
    "# There are two accepted ways to break up our lines. \n",
    "# If you break the lines make sure they are aligned vertically\n",
    "\n",
    "# Aligned with new line after a comma. It needs to be inside a {}, (), or [].\n",
    "our_dictionary = {'key1':'value1','key2':'value2',\n",
    "                  'key3':{'key4':'value4','key5':'value5',\n",
    "                  'key6':'value6'}}\n",
    "\n",
    "# Hanging indents. Notice there our first entry is on a new line.\n",
    "our_dictionary = {\n",
    "    'key1':'value1',\n",
    "    'key2':'value2',\n",
    "    'key3':{\n",
    "        'key4':'value4',\n",
    "        'key5':'value5',\n",
    "        'key6':'value6'\n",
    "        }\n",
    "    }\n",
    "\n",
    "```\n",
    "\n",
    "If this isn't making sense don't worry about it. This will come up and we'll go over it again. You will be able to complete the assignment with either one line dictionaries, or by adding each entry line by line when structure is mutable.\n",
    "\n",
    "1. Create a collection of the names of each month in order called \"months\". Have Python return the month at index 3.\n",
    "2. Create a collection of student names ordered by who submitted homework first called \"homework\". Update as each students' homework is turned in with a new line of code. Jane, Jill, Jerry, and Bob turned in their homework in that order. Have python return which student turned in their homework last.\n",
    "3. I'm creating a contact document for our class called 'phone_numbers. By looking up someone's name, I want to be able to find their phone number. Bob's number is 1234, Jill's number is 4321, Jerry's number is 2314, and Jane's number is 4132. Have Python return Bob's number using your data structure.\n",
    "4. I want all of the names of Hack U students. Some students are enrolled more than once. I want a unique set of names for all Hack U students called \"names\". Have Python print the structure you choose.\n",
    "``` python\n",
    "python = ['Bob', 'Jill', 'Jerry', 'Jane']\n",
    "javascript = ['Bob', 'Joe', 'Susie', 'Beth']\n",
    "reactjs = ['Susie', 'Bob', 'Dan', 'Kevin']\n",
    "```\n",
    "    \n",
    "#### Combining Data Structures\n",
    "\n",
    "1. I want to create a document to look up student's phone numbers, and which classes they are in. This is a tool for enrollment, so I need to be able to update the structure as I go (ie new students added, students dropping, update contact info, and update the class(es) a student is taking). Call it hack_u_contacts. Use info from above. If student has no info leave an empty data structure that can be updated.\n",
    "2. I have my own python class DVD set. I sell them through Walmart, Fred Meyer, and online through ebay. Each has stores in 3 different regions. I've negotiated different pricing for each seller, and each region. When I make a sale I want to use python to look up how much I should charge per unit. Price negotions are final, and will not change. Set up a data structure that would allow me to look this up easily. Call this structure \"prices\". Have Python print how much Ebay is charged in region 2.\n",
    "    * Walmart region1 - 4.50\n",
    "    * Walmart region2 - 5.00\n",
    "    * Walmart region3 - 5.50\n",
    "    * Fred Meyer region1 - 4.33\n",
    "    * Fred Meyer region2 - 4.66\n",
    "    * Fred Meyer region3 - 4.99\n",
    "    * Ebay region1 - 4.00\n",
    "    * Ebay region2 - 4.25\n",
    "    * Ebay region3 - 4.45\n",
    "3. I want to create a class calendar called \"calendar\" that, given the day of the week, I can look up each class that is being taught that day, and where it is. If the location is Centrl Office, I want to know which room the class takes place. Have Python print where the classes that are on Thursday, where React is on Wednesday , and which room Data Viz is in Monday at Centrl. \n",
    "\n",
    "Monday:\n",
    "    * Python - Centrl Office - Large Board Room\n",
    "    * Data Viz - Centrl Office - Medium Board Room\n",
    "    * ReactJS - OMSI\n",
    "    * Hitchhiker's Guide to Technology - Hot Lips Pizza\n",
    "Tuesday:\n",
    "    * JavaScript - Centrl Office - Large Board Room\n",
    "    * Machine Learning - Centrl Office - Medium Board Room\n",
    "    * Product Management - OMSI\n",
    "    * Data Design - Hatch\n",
    "Wednesday:\n",
    "    * Python - Centrl Office - Large Board Room\n",
    "    * Data Viz - Centrl Office - Medium Board Room\n",
    "    * ReactJS - OMSI\n",
    "Thursday:\n",
    "    * JavaScript - Centrl Office - Large Board Room\n",
    "    * Machine Learning - Centrl Office - Medium Board Room\n",
    "    * Product Management - OMSI\n",
    "    * Data Design - Hatch\n",
    "    \n",
    "# Solutions\n",
    "\n",
    "1. Create a collection of the names of each month in order called \"months\". Have Python return the month at index 3."
   ]
  },
  {
   "cell_type": "code",
   "execution_count": 1,
   "metadata": {
    "collapsed": false
   },
   "outputs": [
    {
     "data": {
      "text/plain": [
       "'April'"
      ]
     },
     "execution_count": 1,
     "metadata": {},
     "output_type": "execute_result"
    }
   ],
   "source": [
    "months = ('January','February','March','April','May','June',\n",
    "          'July','August','September','October','November',\n",
    "          'December')\n",
    "months[3]"
   ]
  },
  {
   "cell_type": "markdown",
   "metadata": {},
   "source": [
    "2. Create a collection of student names ordered by who submitted homework first called \"homework\". Update as each students' homework is turned in with a new line of code. Jane, Jill, Jerry, and Bob turned in their homework in that order. Have python return which student turned in their homework last."
   ]
  },
  {
   "cell_type": "code",
   "execution_count": 2,
   "metadata": {
    "collapsed": false
   },
   "outputs": [
    {
     "data": {
      "text/plain": [
       "'Bob'"
      ]
     },
     "execution_count": 2,
     "metadata": {},
     "output_type": "execute_result"
    }
   ],
   "source": [
    "homework = ['Jane', 'Jill', 'Jerry', 'Bob']\n",
    "homework[-1]"
   ]
  },
  {
   "cell_type": "markdown",
   "metadata": {},
   "source": [
    "3. I'm creating a contact document for our class called 'phone_numbers. By looking up someone's name, I want to be able to find their phone number. Bob's number is 1234, Jill's number is 4321, Jerry's number is 2314, and Jane's number is 4132. Have Python return Bob's number using your data structure."
   ]
  },
  {
   "cell_type": "code",
   "execution_count": 3,
   "metadata": {
    "collapsed": false
   },
   "outputs": [
    {
     "data": {
      "text/plain": [
       "1234"
      ]
     },
     "execution_count": 3,
     "metadata": {},
     "output_type": "execute_result"
    }
   ],
   "source": [
    "phone_numbers = {\n",
    "    'Bob':1234,\n",
    "    'Jill':4321,\n",
    "    'Jerry':2314,\n",
    "    'Jane':4132\n",
    "}\n",
    "phone_numbers['Bob']"
   ]
  },
  {
   "cell_type": "markdown",
   "metadata": {},
   "source": [
    "4. I want all of the names of Hack U students. Some students are enrolled more than once. I want a unique set of names for all Hack U students called \"names\". Have Python print the structure you choose.\n",
    "``` python\n",
    "python = ['Bob', 'Jill', 'Jerry', 'Jane']\n",
    "javascript = ['Bob', 'Joe', 'Susie', 'Beth']\n",
    "reactjs = ['Susie', 'Bob', 'Dan', 'Kevin']\n",
    "```"
   ]
  },
  {
   "cell_type": "code",
   "execution_count": 4,
   "metadata": {
    "collapsed": false
   },
   "outputs": [
    {
     "name": "stdout",
     "output_type": "stream",
     "text": [
      "['Bob', 'Jill', 'Jerry', 'Jane', 'Bob', 'Joe', 'Susie', 'Beth', 'Susie', 'Bob', 'Dan', 'Kevin']\n",
      "{'Dan', 'Jill', 'Bob', 'Jane', 'Beth', 'Joe', 'Kevin', 'Jerry', 'Susie'}\n",
      "{'Dan', 'Jerry', 'Jill', 'Bob', 'Jane', 'Susie', 'Beth', 'Joe', 'Kevin'}\n",
      "{'Dan', 'Jill', 'Bob', 'Jane', 'Beth', 'Joe', 'Kevin', 'Jerry', 'Susie'}\n"
     ]
    }
   ],
   "source": [
    "python = ['Bob', 'Jill', 'Jerry', 'Jane']\n",
    "javascript = ['Bob', 'Joe', 'Susie', 'Beth']\n",
    "reactjs = ['Susie', 'Bob', 'Dan', 'Kevin']\n",
    "\n",
    "# remember that we can concatinate lists?\n",
    "print(python+javascript+reactjs)\n",
    "\n",
    "names = (set(python+javascript+reactjs))\n",
    "print(names)\n",
    "\n",
    "# other way to do it\n",
    "\n",
    "names = set(python)\n",
    "names = names.union(javascript)\n",
    "names = names.union(reactjs)\n",
    "print(names)\n",
    "\n",
    "# other other way to do it\n",
    "# | (pipe) is the other way to say union \n",
    "\n",
    "names = set(python)\n",
    "names = names | set(javascript)\n",
    "names = names | set(reactjs)\n",
    "print(names)"
   ]
  },
  {
   "cell_type": "markdown",
   "metadata": {},
   "source": [
    "1. I want to create a document to look up student's phone numbers, and which classes they are in. This is a tool for enrollment, so I need to be able to update the structure as I go (ie new students added, students dropping, update contact info, and update the class(es) a student is taking). Call it hack_u_contacts. Use info from above. If student has no info leave an empty data structure that can be updated.\n"
   ]
  },
  {
   "cell_type": "code",
   "execution_count": 5,
   "metadata": {
    "collapsed": false
   },
   "outputs": [
    {
     "name": "stdout",
     "output_type": "stream",
     "text": [
      "{'Dan': {'courses': ['reactjs']}, 'Kevin': {'courses': ['reactjs']}, 'Jerry': {'number': 2314, 'courses': ['python']}, 'Jill': {'number': 4321, 'courses': ['python']}, 'Bob': {'number': 1234, 'courses': ['python', 'javascript', 'reactjs']}, 'Jane': {'number': 4132, 'courses': ['python']}, 'Susie': {'courses': ['javascript', 'reactjs']}, 'Beth': {'courses': ['javascript']}, 'Joe': {'courses': ['javascript']}}\n"
     ]
    },
    {
     "data": {
      "text/plain": [
       "{'Beth': {'courses': ['javascript']},\n",
       " 'Bob': {'courses': ['python', 'javascript', 'reactjs'], 'number': 1234},\n",
       " 'Dan': {'courses': ['reactjs']},\n",
       " 'Jane': {'courses': ['python'], 'number': 4132},\n",
       " 'Jerry': {'courses': ['python'], 'number': 2314},\n",
       " 'Jill': {'courses': ['python'], 'number': 4321},\n",
       " 'Joe': {'courses': ['javascript']},\n",
       " 'Kevin': {'courses': ['reactjs']},\n",
       " 'Susie': {'courses': ['javascript', 'reactjs']}}"
      ]
     },
     "execution_count": 5,
     "metadata": {},
     "output_type": "execute_result"
    }
   ],
   "source": [
    "#Hanging indents\n",
    "hack_u_contacts = {\n",
    "    'Bob': {'courses':['python','javascript','reactjs'],'number': 1234},\n",
    "    'Jill':{'courses':['python'],'number': 4321}, \n",
    "    'Jerry':{'courses':['python'],'number': 2314}, \n",
    "    'Jane':{'courses':['python'],'number': 4132},\n",
    "    'Joe': {'courses':['javascript']},\n",
    "    'Susie':{'courses':['javascript','reactjs']},\n",
    "    'Beth':{'courses':['javascript']},\n",
    "    'Dan':{'courses':['reactjs']},\n",
    "    'Kevin':{'courses':['reactjs']},\n",
    "}\n",
    "\n",
    "print(hack_u_contacts)\n",
    "\n",
    "# Line by line\n",
    "hack_u_contacts = {}\n",
    "# add all of the python class info\n",
    "hack_u_contacts['Bob'] = {'courses':['python'],'number':1234}\n",
    "hack_u_contacts['Jill'] = {'courses':['python'],'number': 4321}\n",
    "hack_u_contacts['Jerry'] = {'courses':['python'],'number': 2314}\n",
    "hack_u_contacts['Jane'] = {'courses':['python'],'number': 4132}\n",
    "\n",
    "# add all JavaScript class info. I didn't add the numbers since we don't have that info.\n",
    "hack_u_contacts['Bob']['courses'].append('javascript')\n",
    "hack_u_contacts['Joe'] ={'courses':['javascript']}\n",
    "hack_u_contacts['Susie'] = {'courses':['javascript']}\n",
    "hack_u_contacts['Beth'] = {'courses':['javascript']}\n",
    "\n",
    "# add all of the reactjs class info\n",
    "hack_u_contacts['Bob']['courses'].append('reactjs')\n",
    "hack_u_contacts['Susie']['courses'].append('reactjs')\n",
    "hack_u_contacts['Dan'] = {'courses':['reactjs']}\n",
    "hack_u_contacts['Kevin'] = {'courses':['reactjs']}\n",
    "\n",
    "hack_u_contacts"
   ]
  },
  {
   "cell_type": "markdown",
   "metadata": {},
   "source": [
    "2. I have my own python class DVD set. I sell them through Walmart, Fred Meyer, and online through ebay. Each has stores in 3 different regions. I've negotiated different pricing for each seller, and each region. When I make a sale I want to use python to look up how much I should charge per unit. Price negotions are final, and will not change. Set up a data structure that would allow me to look this up easily. Call this structure \"prices\". Have Python print how much Ebay is charged in region 2.\n",
    "    * Walmart region1 - 4.50\n",
    "    * Walmart region2 - 5.00\n",
    "    * Walmart region3 - 5.50\n",
    "    * Fred Meyer region1 - 4.33\n",
    "    * Fred Meyer region2 - 4.66\n",
    "    * Fred Meyer region3 - 4.99\n",
    "    * Ebay region1 - 4.00\n",
    "    * Ebay region2 - 4.25\n",
    "    * Ebay region3 - 4.45\n"
   ]
  },
  {
   "cell_type": "code",
   "execution_count": 6,
   "metadata": {
    "collapsed": false
   },
   "outputs": [
    {
     "name": "stdout",
     "output_type": "stream",
     "text": [
      "4.25\n",
      "4.25\n"
     ]
    }
   ],
   "source": [
    "'''There are two ways you could do this. The first would be to create a (store, region)\n",
    "tuple to use as a key in a dicitonary. The other way would be to use nested dictionaries.\n",
    "'''\n",
    "\n",
    "# tuple dictionary\n",
    "prices1 = {\n",
    "    ('Walmart', 'region1') : 4.50,\n",
    "    ('Walmart', 'region2') : 5.00,\n",
    "    ('Walmart', 'region3') : 5.50,\n",
    "    ('Fred Meyer', 'region1') : 4.33,\n",
    "    ('Fred Meyer', 'region2') : 4.66,\n",
    "    ('Fred Meyer', 'region3') : 4.99,\n",
    "    ('Ebay', 'region1') : 4.00,\n",
    "    ('Ebay', 'region2') : 4.25,\n",
    "    ('Ebay', 'region3') : 4.45,\n",
    "}\n",
    "\n",
    "print(prices1[('Ebay','region2')])\n",
    "\n",
    "# Nested Dictionaries\n",
    "prices2 = {\n",
    "    'Walmart':{\n",
    "        'region1' : 4.50,\n",
    "        'region2' : 5.00,\n",
    "        'region3' : 5.50\n",
    "    },\n",
    "    'Fred Meyer':{\n",
    "        'region1' : 4.33,\n",
    "        'region2' : 4.66,\n",
    "        'region3' : 4.99\n",
    "    },\n",
    "    'Ebay':{\n",
    "        'region1' : 4.00,\n",
    "        'region2' : 4.25,\n",
    "        'region3' : 4.45\n",
    "    }\n",
    "}\n",
    "print(prices2['Ebay']['region2'])\n"
   ]
  },
  {
   "cell_type": "markdown",
   "metadata": {},
   "source": [
    "3. I want to create a class calendar called \"calendar\" that, given the day of the week, I can look up each class that is being taught that day, and where it is. If the location is Centrl Office, I want to know which room the class takes place. Have Python print where the classes that are on Thursday, where React is on Wednesday , and which room Data Viz is in Monday at Centrl. \n",
    "\n",
    "Monday:\n",
    "    * Python - Centrl Office - Large Board Room\n",
    "    * Data Viz - Centrl Office - Medium Board Room\n",
    "    * ReactJS - OMSI\n",
    "    * Hitchhiker's Guide to Technology - Hot Lips Pizza\n",
    "Tuesday:\n",
    "    * JavaScript - Centrl Office - Large Board Room\n",
    "    * Machine Learning - Centrl Office - Medium Board Room\n",
    "    * Product Management - OMSI\n",
    "    * Data Design - Hatch\n",
    "Wednesday:\n",
    "    * Python - Centrl Office - Large Board Room\n",
    "    * Data Viz - Centrl Office - Medium Board Room\n",
    "    * ReactJS - OMSI\n",
    "Thursday:\n",
    "    * JavaScript - Centrl Office - Large Board Room\n",
    "    * Machine Learning - Centrl Office - Medium Board Room\n",
    "    * Product Management - OMSI\n",
    "    * Data Design - Hatch"
   ]
  },
  {
   "cell_type": "code",
   "execution_count": 7,
   "metadata": {
    "collapsed": false
   },
   "outputs": [
    {
     "name": "stdout",
     "output_type": "stream",
     "text": [
      "{'machine learning': {'centrl office': 'medium boardroom'}, 'product management': 'OMSI', 'javascript': {'centrl office': 'big boardroom'}, 'data design': 'hatch'}\n",
      "OMSI\n",
      "medium boardroom\n"
     ]
    }
   ],
   "source": [
    "# I chose to nest dictionaries\n",
    "calendar = {\n",
    "    'Monday':{\n",
    "        'python':{'centrl office':'big boardroom'},\n",
    "        'data viz':{'centrl office':'medium boardroom'},\n",
    "        'reactjs':'OMSI',\n",
    "        'hitchhikers guide to tech':'Hot lips Pizza'\n",
    "    },\n",
    "    'Tuesday':{\n",
    "        'javascript':{'centrl office':'big boardroom'},\n",
    "        'machine learning':{'centrl office':'medium boardroom'},\n",
    "        'product management':'OMSI',\n",
    "        'data design':'hatch'\n",
    "    },\n",
    "    'Wednesday':{\n",
    "        'python':{'centrl office':'big boardroom'},\n",
    "        'data viz':{'centrl office':'medium boardroom'},\n",
    "        'reactjs':'OMSI'\n",
    "    },\n",
    "    'Thursday':{\n",
    "        'javascript':{'centrl office':'big boardroom'},\n",
    "        'machine learning':{'centrl office':'medium boardroom'},\n",
    "        'product management':'OMSI',\n",
    "        'data design':'hatch'\n",
    "    }\n",
    "}\n",
    "print(calendar['Thursday'])\n",
    "print(calendar['Wednesday']['reactjs'])\n",
    "print(calendar['Monday']['data viz']['centrl office'])"
   ]
  }
 ],
 "metadata": {
  "kernelspec": {
   "display_name": "Python 3",
   "language": "python",
   "name": "python3"
  },
  "language_info": {
   "codemirror_mode": {
    "name": "ipython",
    "version": 3
   },
   "file_extension": ".py",
   "mimetype": "text/x-python",
   "name": "python",
   "nbconvert_exporter": "python",
   "pygments_lexer": "ipython3",
   "version": "3.5.2"
  }
 },
 "nbformat": 4,
 "nbformat_minor": 0
}
