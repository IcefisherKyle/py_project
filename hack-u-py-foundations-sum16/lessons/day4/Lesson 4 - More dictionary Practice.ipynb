{
 "cells": [
  {
   "cell_type": "markdown",
   "metadata": {},
   "source": [
    "# More dictionary practice\n",
    "\n",
    "A dictionary is the best way to take something with a name or id, and store information about it.\n",
    "\n",
    "Let's start a dictionary that stores ice cream preferences."
   ]
  },
  {
   "cell_type": "code",
   "execution_count": 8,
   "metadata": {
    "collapsed": false
   },
   "outputs": [],
   "source": [
    "ice_cream = {'alice':'chocolate','bob':'strawberry','cara':'mint'}"
   ]
  },
  {
   "cell_type": "code",
   "execution_count": 9,
   "metadata": {
    "collapsed": false
   },
   "outputs": [
    {
     "data": {
      "text/plain": [
       "'chocolate'"
      ]
     },
     "execution_count": 9,
     "metadata": {},
     "output_type": "execute_result"
    }
   ],
   "source": [
    "ice_cream['alice']"
   ]
  },
  {
   "cell_type": "code",
   "execution_count": 10,
   "metadata": {
    "collapsed": false
   },
   "outputs": [
    {
     "ename": "KeyError",
     "evalue": "'eve'",
     "output_type": "error",
     "traceback": [
      "\u001b[0;31m---------------------------------------------------------------------------\u001b[0m",
      "\u001b[0;31mKeyError\u001b[0m                                  Traceback (most recent call last)",
      "\u001b[0;32m<ipython-input-10-b97187da9a71>\u001b[0m in \u001b[0;36m<module>\u001b[0;34m()\u001b[0m\n\u001b[0;32m----> 1\u001b[0;31m \u001b[0mice_cream\u001b[0m\u001b[0;34m[\u001b[0m\u001b[0;34m'eve'\u001b[0m\u001b[0;34m]\u001b[0m\u001b[0;34m\u001b[0m\u001b[0m\n\u001b[0m",
      "\u001b[0;31mKeyError\u001b[0m: 'eve'"
     ]
    }
   ],
   "source": [
    "ice_cream['eve']"
   ]
  },
  {
   "cell_type": "markdown",
   "metadata": {},
   "source": [
    "When we get a **KeyError** for a dictionary, it means that that key doesn't exist in the dictionary.\n",
    "\n",
    "Right now we don't have eve's ice cream preferences stored in our dictionary...\n",
    "\n",
    "**But** we can change that!"
   ]
  },
  {
   "cell_type": "code",
   "execution_count": 11,
   "metadata": {
    "collapsed": false
   },
   "outputs": [
    {
     "data": {
      "text/plain": [
       "{'alice': 'chocolate', 'bob': 'strawberry', 'cara': 'mint'}"
      ]
     },
     "execution_count": 11,
     "metadata": {},
     "output_type": "execute_result"
    }
   ],
   "source": [
    "ice_cream"
   ]
  },
  {
   "cell_type": "code",
   "execution_count": 12,
   "metadata": {
    "collapsed": true
   },
   "outputs": [],
   "source": [
    "ice_cream['eve'] = 'vanilla'"
   ]
  },
  {
   "cell_type": "code",
   "execution_count": 13,
   "metadata": {
    "collapsed": false
   },
   "outputs": [
    {
     "data": {
      "text/plain": [
       "{'alice': 'chocolate', 'bob': 'strawberry', 'cara': 'mint', 'eve': 'vanilla'}"
      ]
     },
     "execution_count": 13,
     "metadata": {},
     "output_type": "execute_result"
    }
   ],
   "source": [
    "ice_cream"
   ]
  },
  {
   "cell_type": "markdown",
   "metadata": {},
   "source": [
    "We can test if eve is in our ice_cream dictionary without calling the value. We use our **in** statement"
   ]
  },
  {
   "cell_type": "code",
   "execution_count": 14,
   "metadata": {
    "collapsed": false
   },
   "outputs": [
    {
     "data": {
      "text/plain": [
       "True"
      ]
     },
     "execution_count": 14,
     "metadata": {},
     "output_type": "execute_result"
    }
   ],
   "source": [
    "'eve' in ice_cream"
   ]
  },
  {
   "cell_type": "markdown",
   "metadata": {},
   "source": [
    "It's worth noting that keys, names in our case, need to be unique in our dictionary, but values (ice cream preference) can be the same.\n",
    "\n",
    "The reason being that the key is used to access a specific entry in our dictionary. If there were 2 of the same key, then Python wouldn't know which object to map to."
   ]
  },
  {
   "cell_type": "code",
   "execution_count": 16,
   "metadata": {
    "collapsed": true
   },
   "outputs": [],
   "source": [
    "ice_cream['billy'] = 'vanilla'"
   ]
  },
  {
   "cell_type": "code",
   "execution_count": 17,
   "metadata": {
    "collapsed": false
   },
   "outputs": [
    {
     "data": {
      "text/plain": [
       "{'alice': 'chocolate',\n",
       " 'billy': 'vanilla',\n",
       " 'bob': 'strawberry',\n",
       " 'cara': 'mint',\n",
       " 'eve': 'vanilla'}"
      ]
     },
     "execution_count": 17,
     "metadata": {},
     "output_type": "execute_result"
    }
   ],
   "source": [
    "ice_cream"
   ]
  },
  {
   "cell_type": "markdown",
   "metadata": {},
   "source": [
    "See how we have 5 unique names, but some people have the same favorite ice cream?"
   ]
  },
  {
   "cell_type": "code",
   "execution_count": 40,
   "metadata": {
    "collapsed": false
   },
   "outputs": [
    {
     "data": {
      "text/plain": [
       "{' ': ' ',\n",
       " 'a': 'f',\n",
       " 'b': 'g',\n",
       " 'c': 'h',\n",
       " 'd': 'i',\n",
       " 'e': 'j',\n",
       " 'f': 'k',\n",
       " 'g': 'l',\n",
       " 'h': 'm',\n",
       " 'i': 'n',\n",
       " 'j': 'o',\n",
       " 'k': 'p',\n",
       " 'l': 'q',\n",
       " 'm': 'r',\n",
       " 'n': 's',\n",
       " 'o': 't',\n",
       " 'p': 'u',\n",
       " 'q': 'v',\n",
       " 'r': 'w',\n",
       " 's': 'x',\n",
       " 't': 'y',\n",
       " 'v': 'a',\n",
       " 'w': 'b',\n",
       " 'x': 'c',\n",
       " 'y': 'd',\n",
       " 'z': 'e'}"
      ]
     },
     "execution_count": 40,
     "metadata": {},
     "output_type": "execute_result"
    }
   ],
   "source": [
    "# Practice problem\n",
    "cipher_dict = {}\n",
    "for letter in 'abcdefghijklmnopqrstuvwxyz':\n",
    "    if ord(letter)+5 < 122:\n",
    "        cipher_dict[letter] = chr(ord(letter)+5)\n",
    "    if ord(letter)+5 > 122:\n",
    "        cipher_dict[letter] = chr(ord(letter)+5-26)\n",
    "    cipher_dict[' '] = ' '\n",
    "cipher_dict    "
   ]
  },
  {
   "cell_type": "code",
   "execution_count": 39,
   "metadata": {
    "collapsed": false
   },
   "outputs": [
    {
     "data": {
      "text/plain": [
       "'zskgdxdodnwzoozm'"
      ]
     },
     "execution_count": 39,
     "metadata": {},
     "output_type": "execute_result"
    }
   ],
   "source": [
    "practice1"
   ]
  },
  {
   "cell_type": "code",
   "execution_count": null,
   "metadata": {
    "collapsed": true
   },
   "outputs": [],
   "source": []
  }
 ],
 "metadata": {
  "kernelspec": {
   "display_name": "Python 3",
   "language": "python",
   "name": "python3"
  },
  "language_info": {
   "codemirror_mode": {
    "name": "ipython",
    "version": 3
   },
   "file_extension": ".py",
   "mimetype": "text/x-python",
   "name": "python",
   "nbconvert_exporter": "python",
   "pygments_lexer": "ipython3",
   "version": "3.5.2"
  }
 },
 "nbformat": 4,
 "nbformat_minor": 0
}
