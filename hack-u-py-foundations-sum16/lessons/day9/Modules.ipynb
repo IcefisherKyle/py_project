{
 "cells": [
  {
   "cell_type": "markdown",
   "metadata": {},
   "source": [
    "# Modules\n",
    "\n",
    "One of the great things about Python is that the core language is fairly small.\n",
    "* It frees up our name space\n",
    "* doesn't take up as much memory\n",
    "* not as complicated to configure\n",
    "\n",
    "In order to get more functionailty for Python we can import extra functions, definitions, and classes from modules that aren't built in. You can import specific functions, or the entire library\n",
    "```python\n",
    "import math\n",
    "from __future__ import division\n",
    "```\n",
    "\n",
    "Some modules are [built in](https://docs.python.org/3/library/), and others need to be downloaded.\n",
    "\n",
    "\n",
    "In reality a module is just another .py file with functions defined. We can even write our own modules. More on that later.\n",
    "\n",
    "#### Packages\n",
    "A collection of related modules together in a directory-like structure. Ex. Numpy and Scipy have hundreds of smaller modules. You'll see these, when you see . in the import statment.\n",
    "```python\n",
    "from sklearn.trees import DecisionTreeClassifier\n",
    "```\n",
    "\n",
    "### Installing Packages\n",
    "First, see if they're already installed by trying to import them in the python shell. If you get an import error, then you still need to install it.\n",
    "\n",
    "**pip** is the most common tool for installing python packages. \n",
    "```\n",
    "pip install (package name)\n",
    "```\n",
    "Another package installer that seems to be growing is conda, which is distributed with anaconda.\n",
    "```\n",
    "conda install (package name)\n",
    "```\n",
    "\n",
    "\n",
    "\n",
    "Note: You may see the term \"library\", which is simply a generic term for a bunch of code that was designed with the aim of being usable by many applications. It could be a module or a package."
   ]
  },
  {
   "cell_type": "code",
   "execution_count": 1,
   "metadata": {
    "collapsed": true
   },
   "outputs": [],
   "source": [
    "import math"
   ]
  },
  {
   "cell_type": "code",
   "execution_count": 2,
   "metadata": {
    "collapsed": false
   },
   "outputs": [
    {
     "data": {
      "text/plain": [
       "2.0"
      ]
     },
     "execution_count": 2,
     "metadata": {},
     "output_type": "execute_result"
    }
   ],
   "source": [
    "math.sqrt(4)"
   ]
  },
  {
   "cell_type": "code",
   "execution_count": 3,
   "metadata": {
    "collapsed": false
   },
   "outputs": [
    {
     "data": {
      "text/plain": [
       "3.0"
      ]
     },
     "execution_count": 3,
     "metadata": {},
     "output_type": "execute_result"
    }
   ],
   "source": [
    "from math import sqrt\n",
    "sqrt(9)"
   ]
  },
  {
   "cell_type": "markdown",
   "metadata": {},
   "source": [
    "It's convention to make all of your imports at the beginning of your python notebook or file. If you don't, you could be rewriting over your functions and not know about it.\n",
    "\n",
    "Also try to import as little as possible. Importing an entire module is wasteful and inefficient.\n",
    "\n",
    "In our case, let's imagine we wrote our own sqrt() function, but with different funcitonality."
   ]
  },
  {
   "cell_type": "code",
   "execution_count": 4,
   "metadata": {
    "collapsed": true
   },
   "outputs": [],
   "source": [
    "def sqrt(number):\n",
    "    print('The square root is {}'.format(number**.5))"
   ]
  },
  {
   "cell_type": "code",
   "execution_count": 5,
   "metadata": {
    "collapsed": false
   },
   "outputs": [
    {
     "name": "stdout",
     "output_type": "stream",
     "text": [
      "The square root is 3.0\n"
     ]
    }
   ],
   "source": [
    "sqrt(9)"
   ]
  },
  {
   "cell_type": "code",
   "execution_count": 8,
   "metadata": {
    "collapsed": true
   },
   "outputs": [],
   "source": [
    "#In this situation \n",
    "from math import sqrt\n"
   ]
  },
  {
   "cell_type": "code",
   "execution_count": 9,
   "metadata": {
    "collapsed": false
   },
   "outputs": [
    {
     "data": {
      "text/plain": [
       "3.0"
      ]
     },
     "execution_count": 9,
     "metadata": {},
     "output_type": "execute_result"
    }
   ],
   "source": [
    "sqrt(9)"
   ]
  },
  {
   "cell_type": "markdown",
   "metadata": {},
   "source": [
    "We wrote over our original function"
   ]
  },
  {
   "cell_type": "code",
   "execution_count": 10,
   "metadata": {
    "collapsed": false
   },
   "outputs": [
    {
     "name": "stdout",
     "output_type": "stream",
     "text": [
      "['__doc__', '__file__', '__loader__', '__name__', '__package__', '__spec__', 'acos', 'acosh', 'asin', 'asinh', 'atan', 'atan2', 'atanh', 'ceil', 'copysign', 'cos', 'cosh', 'degrees', 'e', 'erf', 'erfc', 'exp', 'expm1', 'fabs', 'factorial', 'floor', 'fmod', 'frexp', 'fsum', 'gamma', 'gcd', 'hypot', 'inf', 'isclose', 'isfinite', 'isinf', 'isnan', 'ldexp', 'lgamma', 'log', 'log10', 'log1p', 'log2', 'modf', 'nan', 'pi', 'pow', 'radians', 'sin', 'sinh', 'sqrt', 'tan', 'tanh', 'trunc']\n"
     ]
    }
   ],
   "source": [
    "# let's explore what is in math\n",
    "print(dir(math))"
   ]
  },
  {
   "cell_type": "code",
   "execution_count": 13,
   "metadata": {
    "collapsed": false
   },
   "outputs": [
    {
     "name": "stdout",
     "output_type": "stream",
     "text": [
      "Help on built-in function isnan in module math:\n",
      "\n",
      "isnan(...)\n",
      "    isnan(x) -> bool\n",
      "    \n",
      "    Return True if x is a NaN (not a number), and False otherwise.\n",
      "\n"
     ]
    }
   ],
   "source": [
    "help(math.isnan)"
   ]
  },
  {
   "cell_type": "markdown",
   "metadata": {},
   "source": [
    "### How do I know what's out there?\n",
    "More oftem than not, someone has programmed a package for what you're trying to do. Where are they? Google and Github are two great places.\n",
    "\n",
    "https://github.com/\n",
    "\n"
   ]
  }
 ],
 "metadata": {
  "kernelspec": {
   "display_name": "Python 3",
   "language": "python",
   "name": "python3"
  },
  "language_info": {
   "codemirror_mode": {
    "name": "ipython",
    "version": 3
   },
   "file_extension": ".py",
   "mimetype": "text/x-python",
   "name": "python",
   "nbconvert_exporter": "python",
   "pygments_lexer": "ipython3",
   "version": "3.5.2"
  }
 },
 "nbformat": 4,
 "nbformat_minor": 0
}
